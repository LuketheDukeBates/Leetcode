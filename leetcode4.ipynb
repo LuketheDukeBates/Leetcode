{
 "cells": [
  {
   "cell_type": "markdown",
   "metadata": {},
   "source": [
    "### Two Sum\n",
    "Given an array of integers, return indices of the two numbers such that they add up to a specific target.\n",
    "\n",
    "You may assume that each input would have exactly one solution, and you may not use the same element twice.\n",
    "\n",
    "Example:\n",
    "\n",
    "Given nums = [2, 7, 11, 15], target = 9,\n",
    "\n",
    "Because nums[0] + nums[1] = 2 + 7 = 9,\n",
    "return [0, 1]."
   ]
  },
  {
   "cell_type": "markdown",
   "metadata": {},
   "source": [
    "Given an array of integers, 1 ≤ a[i] ≤ n (n = size of array), some elements appear twice and others appear once.\n",
    "\n",
    "Find all the elements that appear twice in this array.\n",
    "\n",
    "Could you do it without extra space and in O(n) runtime?"
   ]
  },
  {
   "cell_type": "code",
   "execution_count": 132,
   "metadata": {},
   "outputs": [
    {
     "data": {
      "text/plain": [
       "1"
      ]
     },
     "execution_count": 132,
     "metadata": {},
     "output_type": "execute_result"
    }
   ],
   "source": [
    "11 % 2"
   ]
  },
  {
   "cell_type": "code",
   "execution_count": 122,
   "metadata": {},
   "outputs": [],
   "source": [
    "class Solution(object):\n",
    "    def __init__(self):\n",
    "        self = self\n",
    "    def findDuplicates(self, nums):\n",
    "        dups = []; unique = []\n",
    "        for i in nums:\n",
    "            if i in unique:\n",
    "                dups.append(i)\n",
    "            else:\n",
    "                unique.append(i)\n",
    "        return dups\n",
    "            "
   ]
  },
  {
   "cell_type": "code",
   "execution_count": 123,
   "metadata": {},
   "outputs": [],
   "source": [
    "some_nums = [4,3,2,7,8,2,3,1]\n",
    "sol = Solution().findDuplicates(some_nums)"
   ]
  },
  {
   "cell_type": "code",
   "execution_count": 124,
   "metadata": {},
   "outputs": [
    {
     "data": {
      "text/plain": [
       "[2, 3]"
      ]
     },
     "execution_count": 124,
     "metadata": {},
     "output_type": "execute_result"
    }
   ],
   "source": [
    "sol"
   ]
  },
  {
   "cell_type": "markdown",
   "metadata": {},
   "source": [
    "Merge two sorted linked lists and return it as a new list. The new list should be made by splicing together the nodes of the first two lists.\n",
    "\n",
    "Example:\n",
    "\n",
    "Input: 1->2->4, 1->3->4\n",
    "    \n",
    "Output: 1->1->2->3->4->4"
   ]
  },
  {
   "cell_type": "code",
   "execution_count": 128,
   "metadata": {},
   "outputs": [],
   "source": [
    "#Definition for singly-linked list.\n",
    "class ListNode(object):\n",
    "    def __init__(self, x):\n",
    "        self.val = x\n",
    "        self.next = None\n",
    "        \n",
    "class Solution:\n",
    "    def mergeTwoLists(self, l1, l2):\n",
    "\n",
    "        head = current = ListNode(0) #Notice that not create a headnode.\n",
    "        \n",
    "        while l1 != 0 and l2 != 0:\n",
    "            if l1.val <= l2.val:\n",
    "                current.next = l1 #the first assignment is accaully head.next\n",
    "                l1 = l1.next\n",
    "            else:\n",
    "                current.next = l2 \n",
    "                l2 = l2.next     \n",
    "            current = current.next #reassign cur  and shadow head.\n",
    "            \n",
    "        current.next = l1 or l2 \n",
    "        \n",
    "        \n",
    "        return head.next"
   ]
  },
  {
   "cell_type": "code",
   "execution_count": 129,
   "metadata": {},
   "outputs": [],
   "source": [
    "list1 = [1,2,4]\n",
    "list2 = [1,3,4]"
   ]
  },
  {
   "cell_type": "code",
   "execution_count": 130,
   "metadata": {},
   "outputs": [
    {
     "ename": "AttributeError",
     "evalue": "'list' object has no attribute 'val'",
     "output_type": "error",
     "traceback": [
      "\u001b[1;31m---------------------------------------------------------------------------\u001b[0m",
      "\u001b[1;31mAttributeError\u001b[0m                            Traceback (most recent call last)",
      "\u001b[1;32m<ipython-input-130-987e151761ab>\u001b[0m in \u001b[0;36m<module>\u001b[1;34m\u001b[0m\n\u001b[1;32m----> 1\u001b[1;33m \u001b[0msol\u001b[0m \u001b[1;33m=\u001b[0m \u001b[0mSolution\u001b[0m\u001b[1;33m(\u001b[0m\u001b[1;33m)\u001b[0m\u001b[1;33m.\u001b[0m\u001b[0mmergeTwoLists\u001b[0m\u001b[1;33m(\u001b[0m\u001b[0mlist1\u001b[0m\u001b[1;33m,\u001b[0m \u001b[0mlist2\u001b[0m\u001b[1;33m)\u001b[0m\u001b[1;33m\u001b[0m\u001b[1;33m\u001b[0m\u001b[0m\n\u001b[0m",
      "\u001b[1;32m<ipython-input-128-b7ded896d550>\u001b[0m in \u001b[0;36mmergeTwoLists\u001b[1;34m(self, l1, l2)\u001b[0m\n\u001b[0;32m     11\u001b[0m \u001b[1;33m\u001b[0m\u001b[0m\n\u001b[0;32m     12\u001b[0m         \u001b[1;32mwhile\u001b[0m \u001b[0ml1\u001b[0m \u001b[1;33m!=\u001b[0m \u001b[1;36m0\u001b[0m \u001b[1;32mand\u001b[0m \u001b[0ml2\u001b[0m \u001b[1;33m!=\u001b[0m \u001b[1;36m0\u001b[0m\u001b[1;33m:\u001b[0m\u001b[1;33m\u001b[0m\u001b[1;33m\u001b[0m\u001b[0m\n\u001b[1;32m---> 13\u001b[1;33m             \u001b[1;32mif\u001b[0m \u001b[0ml1\u001b[0m\u001b[1;33m.\u001b[0m\u001b[0mval\u001b[0m \u001b[1;33m<=\u001b[0m \u001b[0ml2\u001b[0m\u001b[1;33m.\u001b[0m\u001b[0mval\u001b[0m\u001b[1;33m:\u001b[0m\u001b[1;33m\u001b[0m\u001b[1;33m\u001b[0m\u001b[0m\n\u001b[0m\u001b[0;32m     14\u001b[0m                 \u001b[0mcurrent\u001b[0m\u001b[1;33m.\u001b[0m\u001b[0mnext\u001b[0m \u001b[1;33m=\u001b[0m \u001b[0ml1\u001b[0m \u001b[1;31m#the first assignment is accaully head.next\u001b[0m\u001b[1;33m\u001b[0m\u001b[1;33m\u001b[0m\u001b[0m\n\u001b[0;32m     15\u001b[0m                 \u001b[0ml1\u001b[0m \u001b[1;33m=\u001b[0m \u001b[0ml1\u001b[0m\u001b[1;33m.\u001b[0m\u001b[0mnext\u001b[0m\u001b[1;33m\u001b[0m\u001b[1;33m\u001b[0m\u001b[0m\n",
      "\u001b[1;31mAttributeError\u001b[0m: 'list' object has no attribute 'val'"
     ]
    }
   ],
   "source": [
    "sol = Solution().mergeTwoLists(list1, list2)"
   ]
  },
  {
   "cell_type": "code",
   "execution_count": 93,
   "metadata": {},
   "outputs": [
    {
     "data": {
      "text/plain": [
       "'oh oh oh ahahahah'"
      ]
     },
     "execution_count": 93,
     "metadata": {},
     "output_type": "execute_result"
    }
   ],
   "source": [
    "my_string = 'hahahaha ho ho ho'\n",
    "rev_my_sting = my_string[::-1]\n",
    "rev_my_sting"
   ]
  },
  {
   "cell_type": "code",
   "execution_count": 100,
   "metadata": {},
   "outputs": [
    {
     "name": "stdout",
     "output_type": "stream",
     "text": [
      "oh oh oh ahahahah\n"
     ]
    }
   ],
   "source": [
    "rev_string = ''\n",
    "for char in reversed(my_string):\n",
    "    rev_string += char\n",
    "print(rev_string)"
   ]
  },
  {
   "cell_type": "code",
   "execution_count": 94,
   "metadata": {},
   "outputs": [
    {
     "data": {
      "text/plain": [
       "'oh oh oh ahahahah'"
      ]
     },
     "execution_count": 94,
     "metadata": {},
     "output_type": "execute_result"
    }
   ],
   "source": [
    "output = ''\n",
    "for word in my_string:\n",
    "    output = word + output\n",
    "output"
   ]
  },
  {
   "cell_type": "code",
   "execution_count": 352,
   "metadata": {},
   "outputs": [],
   "source": [
    "class Solution:\n",
    "    def twoSum(self, nums, target):\n",
    "        lookup = {}\n",
    "        for cnt, num in enumerate(nums):\n",
    "            if target - num in lookup:\n",
    "                return [lookup[target - num], cnt]\n",
    "            lookup[num] = cnt"
   ]
  },
  {
   "cell_type": "code",
   "execution_count": 353,
   "metadata": {},
   "outputs": [],
   "source": [
    "given_nums = [2, 7, 11, 15]\n",
    "tar = 9"
   ]
  },
  {
   "cell_type": "code",
   "execution_count": 354,
   "metadata": {},
   "outputs": [
    {
     "name": "stdout",
     "output_type": "stream",
     "text": [
      "Output: [0, 1]\n"
     ]
    }
   ],
   "source": [
    "sol = Solution()\n",
    "print('Output: {0}'.format(sol.twoSum(given_nums, tar)))"
   ]
  },
  {
   "cell_type": "markdown",
   "metadata": {},
   "source": [
    "### Two Sum II - Input array is sorted\n",
    "\n",
    "Given an array of integers that is already sorted in ascending order, find two numbers such that they add up to a specific target number.\n",
    "\n",
    "The function twoSum should return indices of the two numbers such that they add up to the target, where index1 must be less than index2.\n",
    "\n",
    "Note:\n",
    "\n",
    "Your returned answers (both index1 and index2) are not zero-based.\n",
    "You may assume that each input would have exactly one solution and you may not use the same element twice.\n",
    "\n",
    "\n",
    "Example:\n",
    "\n",
    "Input: numbers = [2,7,11,15], target = 9\n",
    "\n",
    "Output: [1,2]\n",
    "\n",
    "Explanation: The sum of 2 and 7 is 9. Therefore index1 = 1, index2 = 2."
   ]
  },
  {
   "cell_type": "code",
   "execution_count": 349,
   "metadata": {},
   "outputs": [],
   "source": [
    "class Solution:\n",
    "    def twoSum2(self, nums, target):\n",
    "        lookup = {}\n",
    "        for cnt, num in enumerate(nums):\n",
    "            if target - num in lookup and lookup[target - num] < cnt:\n",
    "                return [(lookup[target - num] + 1), (cnt + 1)]\n",
    "            lookup[num] = cnt            "
   ]
  },
  {
   "cell_type": "code",
   "execution_count": 350,
   "metadata": {},
   "outputs": [],
   "source": [
    "given_nums = [2, 7, 11, 15]\n",
    "tar = 9"
   ]
  },
  {
   "cell_type": "code",
   "execution_count": 351,
   "metadata": {},
   "outputs": [
    {
     "name": "stdout",
     "output_type": "stream",
     "text": [
      "Output: [1, 2]\n"
     ]
    }
   ],
   "source": [
    "sol = Solution()\n",
    "print('Output: {0}'.format(sol.twoSum2(given_nums, tar)))"
   ]
  },
  {
   "cell_type": "markdown",
   "metadata": {},
   "source": [
    "###  Power of Two\n",
    "Given an integer, write a function to determine if it is a power of two.\n",
    "\n",
    "Example 1:\n",
    "\n",
    "Input: 1\n",
    "\n",
    "Output: true \n",
    "\n",
    "Explanation: $2^0 = 1$\n",
    "\n",
    "\n",
    "Example 2:\n",
    "\n",
    "Input: 16\n",
    "\n",
    "Output: true\n",
    "\n",
    "Explanation: $2^4 = 16$\n",
    "\n",
    "Example 3:\n",
    "\n",
    "Input: 218\n",
    "\n",
    "Output: false"
   ]
  },
  {
   "cell_type": "code",
   "execution_count": 7,
   "metadata": {},
   "outputs": [],
   "source": [
    "class Solution:\n",
    "    def isPowerOfTwo(self, n):\n",
    "        if n != 0 and ((n & (n - 1)) == 0):\n",
    "            return True\n",
    "        else:\n",
    "            return False"
   ]
  },
  {
   "cell_type": "code",
   "execution_count": 8,
   "metadata": {},
   "outputs": [],
   "source": [
    "sol = Solution()"
   ]
  },
  {
   "cell_type": "code",
   "execution_count": 9,
   "metadata": {},
   "outputs": [
    {
     "name": "stdout",
     "output_type": "stream",
     "text": [
      "True\n"
     ]
    }
   ],
   "source": [
    "print(sol.isPowerOfTwo(1))"
   ]
  },
  {
   "cell_type": "code",
   "execution_count": 10,
   "metadata": {},
   "outputs": [
    {
     "name": "stdout",
     "output_type": "stream",
     "text": [
      "True\n"
     ]
    }
   ],
   "source": [
    "print(sol.isPowerOfTwo(2))"
   ]
  },
  {
   "cell_type": "code",
   "execution_count": 11,
   "metadata": {},
   "outputs": [
    {
     "name": "stdout",
     "output_type": "stream",
     "text": [
      "True\n"
     ]
    }
   ],
   "source": [
    "print(sol.isPowerOfTwo(16))"
   ]
  },
  {
   "cell_type": "code",
   "execution_count": 14,
   "metadata": {},
   "outputs": [
    {
     "name": "stdout",
     "output_type": "stream",
     "text": [
      "False\n"
     ]
    }
   ],
   "source": [
    "print(sol.isPowerOfTwo(218))"
   ]
  },
  {
   "cell_type": "markdown",
   "metadata": {},
   "source": [
    "### Count Primes\n",
    "\n",
    "Count the number of prime numbers less than a non-negative number, n.\n",
    "\n",
    "Example:\n",
    "\n",
    "Input: 10\n",
    "\n",
    "Output: 4\n",
    "\n",
    "Explanation: There are 4 prime numbers less than 10, they are 2, 3, 5, 7."
   ]
  },
  {
   "cell_type": "code",
   "execution_count": 15,
   "metadata": {},
   "outputs": [],
   "source": [
    "class Solution:\n",
    "    def countPrimes(self, n):\n",
    "        primes = []        \n",
    "        for i in range(2, n):\n",
    "            if self.primeCheck(i, primes):\n",
    "                primes.append(i)\n",
    "\n",
    "        return len(primes)\n",
    "\n",
    "    def primeCheck(self, n, primelist):\n",
    "\n",
    "        if n < 2:\n",
    "            return False\n",
    "\n",
    "        if n % 2 == 0: \n",
    "            return n == 2\n",
    "\n",
    "        for prime in primelist:\n",
    "\n",
    "            if prime * prime > n:\n",
    "                return True\n",
    "\n",
    "            if n % prime == 0:\n",
    "                return False"
   ]
  },
  {
   "cell_type": "code",
   "execution_count": 16,
   "metadata": {},
   "outputs": [],
   "source": [
    "sol = Solution()"
   ]
  },
  {
   "cell_type": "code",
   "execution_count": 17,
   "metadata": {},
   "outputs": [
    {
     "name": "stdout",
     "output_type": "stream",
     "text": [
      "4\n"
     ]
    }
   ],
   "source": [
    "print(sol.countPrimes(10))"
   ]
  },
  {
   "cell_type": "code",
   "execution_count": 18,
   "metadata": {},
   "outputs": [
    {
     "name": "stdout",
     "output_type": "stream",
     "text": [
      "664579\n"
     ]
    }
   ],
   "source": [
    "print(sol.countPrimes(10000000))"
   ]
  },
  {
   "cell_type": "markdown",
   "metadata": {},
   "source": [
    "### Ugly Number\n",
    "Write a program to check whether a given number is an ugly number. Ugly numbers are positive numbers whose prime factors only include 2, 3, 5.\n",
    "\n",
    "Example 1:\n",
    "\n",
    "Input: 6\n",
    "\n",
    "Output: true\n",
    "\n",
    "Explanation: 6 = 2 × 3\n",
    "\n",
    "Example 2:\n",
    "\n",
    "Input: 8\n",
    "\n",
    "Output: true\n",
    "\n",
    "Explanation: 8 = 2 × 2 × 2\n",
    "\n",
    "Example 3:\n",
    "\n",
    "Input: 14\n",
    "\n",
    "Output: false \n",
    "\n",
    "Explanation: 14 is not ugly since it includes another prime factor 7.\n",
    "\n",
    "Note:\n",
    "\n",
    "1. 1 is typically treated as an ugly number.\n",
    "2. Input is within the 32-bit signed integer range: [$−2^{31},  2^{31} − 1$]."
   ]
  },
  {
   "cell_type": "code",
   "execution_count": 19,
   "metadata": {},
   "outputs": [],
   "source": [
    "class Solution:\n",
    "    def uglyNumber(self, num):\n",
    "        if num <= 0:\n",
    "            return False \n",
    "        while True:\n",
    "            if num%2 == 0:\n",
    "                num = num/2\n",
    "            elif num%3 == 0:\n",
    "                num = num/3\n",
    "            elif num%5 == 0:\n",
    "                num = num/5\n",
    "            else:\n",
    "                return num == 1\n",
    "            "
   ]
  },
  {
   "cell_type": "code",
   "execution_count": 20,
   "metadata": {},
   "outputs": [],
   "source": [
    "sol = Solution()"
   ]
  },
  {
   "cell_type": "code",
   "execution_count": 21,
   "metadata": {},
   "outputs": [
    {
     "name": "stdout",
     "output_type": "stream",
     "text": [
      "True\n"
     ]
    }
   ],
   "source": [
    "print(sol.uglyNumber(6))"
   ]
  },
  {
   "cell_type": "code",
   "execution_count": 22,
   "metadata": {},
   "outputs": [
    {
     "name": "stdout",
     "output_type": "stream",
     "text": [
      "True\n"
     ]
    }
   ],
   "source": [
    "print(sol.uglyNumber(8))"
   ]
  },
  {
   "cell_type": "code",
   "execution_count": 23,
   "metadata": {},
   "outputs": [
    {
     "name": "stdout",
     "output_type": "stream",
     "text": [
      "False\n"
     ]
    }
   ],
   "source": [
    "print(sol.uglyNumber(14))"
   ]
  },
  {
   "cell_type": "markdown",
   "metadata": {},
   "source": [
    "### Reverse integer\n",
    "Given a 32-bit signed integer, reverse digits of an integer.\n",
    "\n",
    "Example 1:\n",
    "\n",
    "Input: 123\n",
    "\n",
    "Output: 321\n",
    "\n",
    "Example 2:\n",
    "\n",
    "Input: -123\n",
    "\n",
    "Output: -321\n",
    "\n",
    "\n",
    "Example 3:\n",
    "\n",
    "Input: 120\n",
    "\n",
    "Output: 21\n",
    "\n",
    "Note:\n",
    "Assume we are dealing with an environment which could only store integers within the 32-bit signed integer range: $−2^{31},  2^{31} − 1$. For the purpose of this problem, assume that your function returns 0 when the reversed integer overflows."
   ]
  },
  {
   "cell_type": "code",
   "execution_count": 24,
   "metadata": {},
   "outputs": [],
   "source": [
    "class Solution:\n",
    "    def reverse(self, x):\n",
    "        maxint = 2147483649\n",
    "        minint = -2147483648\n",
    "        ans = int(str(abs(x))[::-1])\n",
    "        return ans * (abs(x)//x) if minint < ans < maxint and ans else 0"
   ]
  },
  {
   "cell_type": "code",
   "execution_count": 25,
   "metadata": {},
   "outputs": [],
   "source": [
    "sol = Solution()"
   ]
  },
  {
   "cell_type": "code",
   "execution_count": 26,
   "metadata": {},
   "outputs": [
    {
     "data": {
      "text/plain": [
       "321"
      ]
     },
     "execution_count": 26,
     "metadata": {},
     "output_type": "execute_result"
    }
   ],
   "source": [
    "sol.reverse(123)"
   ]
  },
  {
   "cell_type": "code",
   "execution_count": 27,
   "metadata": {},
   "outputs": [
    {
     "data": {
      "text/plain": [
       "-123"
      ]
     },
     "execution_count": 27,
     "metadata": {},
     "output_type": "execute_result"
    }
   ],
   "source": [
    "sol.reverse(-321)"
   ]
  },
  {
   "cell_type": "code",
   "execution_count": 28,
   "metadata": {},
   "outputs": [
    {
     "data": {
      "text/plain": [
       "21"
      ]
     },
     "execution_count": 28,
     "metadata": {},
     "output_type": "execute_result"
    }
   ],
   "source": [
    "sol.reverse(120)"
   ]
  },
  {
   "cell_type": "markdown",
   "metadata": {},
   "source": [
    "### Palindrome Number\n",
    "\n",
    "Determine whether an integer is a palindrome. An integer is a palindrome when it reads the same backward as forward.\n",
    "\n",
    "Example 1:\n",
    "\n",
    "Input: 121\n",
    "\n",
    "Output: true\n",
    "\n",
    "Example 2:\n",
    "\n",
    "Input: -121\n",
    "\n",
    "Output: false\n",
    "\n",
    "Explanation: From left to right, it reads -121. From right to left, it becomes 121-. Therefore it is not a palindrome.\n",
    "\n",
    "Example 3:\n",
    "\n",
    "Input: 10\n",
    "\n",
    "Output: false\n",
    "\n",
    "Explanation: Reads 01 from right to left. Therefore it is not a palindrome.\n",
    "\n",
    "Follow up:\n",
    "\n",
    "Coud you solve it without converting the integer to a string?"
   ]
  },
  {
   "cell_type": "code",
   "execution_count": 29,
   "metadata": {},
   "outputs": [],
   "source": [
    "#string solution\n",
    "class Solution:\n",
    "    def palindrome(self, x):\n",
    "        return str(x) == str(x)[::-1]"
   ]
  },
  {
   "cell_type": "code",
   "execution_count": 30,
   "metadata": {},
   "outputs": [],
   "source": [
    "sol = Solution()"
   ]
  },
  {
   "cell_type": "code",
   "execution_count": 31,
   "metadata": {},
   "outputs": [
    {
     "data": {
      "text/plain": [
       "True"
      ]
     },
     "execution_count": 31,
     "metadata": {},
     "output_type": "execute_result"
    }
   ],
   "source": [
    "sol.palindrome(121)"
   ]
  },
  {
   "cell_type": "code",
   "execution_count": 32,
   "metadata": {},
   "outputs": [
    {
     "data": {
      "text/plain": [
       "False"
      ]
     },
     "execution_count": 32,
     "metadata": {},
     "output_type": "execute_result"
    }
   ],
   "source": [
    "sol.palindrome(-121)"
   ]
  },
  {
   "cell_type": "code",
   "execution_count": 33,
   "metadata": {},
   "outputs": [
    {
     "data": {
      "text/plain": [
       "False"
      ]
     },
     "execution_count": 33,
     "metadata": {},
     "output_type": "execute_result"
    }
   ],
   "source": [
    "sol.palindrome(10)"
   ]
  },
  {
   "cell_type": "code",
   "execution_count": 383,
   "metadata": {},
   "outputs": [],
   "source": [
    "class FizzBuzz(object):\n",
    "   \n",
    "    def __init__(self, num):        \n",
    "        self.num = num\n",
    "        \n",
    "    \n",
    "    def printer(self):\n",
    "        for i in range(1, self.num + 1):\n",
    "            if i%3 == 0 and i%5 == 0:\n",
    "                print(\"FizzBuzz\")\n",
    "            elif i%3 == 0:\n",
    "                print(\"Fizz\")\n",
    "            elif i%5 == 0:\n",
    "                print(\"Buzz\")\n",
    "            else:\n",
    "                print(i)\n",
    "fb = FizzBuzz(30)"
   ]
  },
  {
   "cell_type": "code",
   "execution_count": 384,
   "metadata": {},
   "outputs": [
    {
     "name": "stdout",
     "output_type": "stream",
     "text": [
      "1\n",
      "2\n",
      "Fizz\n",
      "4\n",
      "Buzz\n",
      "Fizz\n",
      "7\n",
      "8\n",
      "Fizz\n",
      "Buzz\n",
      "11\n",
      "Fizz\n",
      "13\n",
      "14\n",
      "FizzBuzz\n",
      "16\n",
      "17\n",
      "Fizz\n",
      "19\n",
      "Buzz\n",
      "Fizz\n",
      "22\n",
      "23\n",
      "Fizz\n",
      "Buzz\n",
      "26\n",
      "Fizz\n",
      "28\n",
      "29\n",
      "FizzBuzz\n"
     ]
    }
   ],
   "source": [
    "fb.printer()"
   ]
  },
  {
   "cell_type": "code",
   "execution_count": 34,
   "metadata": {},
   "outputs": [],
   "source": [
    "# no string conversion\n",
    "class Solution:\n",
    "    \n",
    "    def reverse(self, x):\n",
    "        rev = 0\n",
    "        while x > 0:\n",
    "            end = x%10\n",
    "            rev = rev *10 + end\n",
    "            x = x//10\n",
    "        return rev\n",
    "    \n",
    "    def palindrome(self, x):\n",
    "        return Solution.reverse(self, x) == x"
   ]
  },
  {
   "cell_type": "code",
   "execution_count": 35,
   "metadata": {},
   "outputs": [],
   "source": [
    "sol = Solution()"
   ]
  },
  {
   "cell_type": "code",
   "execution_count": 36,
   "metadata": {},
   "outputs": [
    {
     "data": {
      "text/plain": [
       "True"
      ]
     },
     "execution_count": 36,
     "metadata": {},
     "output_type": "execute_result"
    }
   ],
   "source": [
    "sol.palindrome(121)"
   ]
  },
  {
   "cell_type": "code",
   "execution_count": 368,
   "metadata": {},
   "outputs": [
    {
     "data": {
      "text/plain": [
       "1"
      ]
     },
     "execution_count": 368,
     "metadata": {},
     "output_type": "execute_result"
    }
   ],
   "source": [
    "end = 121%10\n",
    "end\n",
    "rev "
   ]
  },
  {
   "cell_type": "code",
   "execution_count": 37,
   "metadata": {},
   "outputs": [
    {
     "data": {
      "text/plain": [
       "False"
      ]
     },
     "execution_count": 37,
     "metadata": {},
     "output_type": "execute_result"
    }
   ],
   "source": [
    "sol.palindrome(-121)"
   ]
  },
  {
   "cell_type": "code",
   "execution_count": 38,
   "metadata": {},
   "outputs": [
    {
     "data": {
      "text/plain": [
       "False"
      ]
     },
     "execution_count": 38,
     "metadata": {},
     "output_type": "execute_result"
    }
   ],
   "source": [
    "sol.palindrome(10)"
   ]
  },
  {
   "cell_type": "markdown",
   "metadata": {},
   "source": [
    "### Remove Duplicates from Sorted Array\n",
    "Given a sorted array nums, remove the duplicates in-place such that each element appear only once and return the new length.\n",
    "\n",
    "Do not allocate extra space for another array, you must do this by modifying the input array in-place with O(1) extra memory.\n",
    "\n",
    "Example 1:\n",
    "\n",
    "Given nums = [1,1,2],\n",
    "\n",
    "Your function should return length = 2, with the first two elements of nums being 1 and 2 respectively.\n",
    "\n",
    "It doesn't matter what you leave beyond the returned length.\n",
    "\n",
    "Example 2:\n",
    "\n",
    "Given nums = [0,0,1,1,1,2,2,3,3,4],\n",
    "\n",
    "Your function should return length = 5, with the first five elements of nums being modified to 0, 1, 2, 3, and 4 respectively.\n",
    "\n",
    "It doesn't matter what values are set beyond the returned length.\n",
    "\n",
    "Clarification:\n",
    "\n",
    "Confused why the returned value is an integer but your answer is an array?\n",
    "\n",
    "Note that the input array is passed in by reference, which means modification to the input array will be known to the caller as well.\n",
    "\n",
    "Internally you can think of this:\n",
    "\n",
    "// nums is passed in by reference. (i.e., without making a copy)\n",
    "int len = removeDuplicates(nums);\n",
    "\n",
    "// any modification to nums in your function would be known by the caller.\n",
    "// using the length returned by your function, it prints the first len elements.\n",
    "for (int i = 0; i < len; i++) {\n",
    "    print(nums[i]);\n",
    "}\n"
   ]
  },
  {
   "cell_type": "code",
   "execution_count": 39,
   "metadata": {},
   "outputs": [],
   "source": [
    "class Solution:\n",
    "    def removeDuplicates(self, nums):\n",
    "        for i in range(len(nums)-1, 0, -1):\n",
    "            if nums[i] == nums[i - 1]:\n",
    "                del nums[i]\n",
    "        return len(nums)"
   ]
  },
  {
   "cell_type": "code",
   "execution_count": 40,
   "metadata": {},
   "outputs": [],
   "source": [
    "sol = Solution()\n",
    "given_nums = [1, 1, 2]"
   ]
  },
  {
   "cell_type": "code",
   "execution_count": 41,
   "metadata": {},
   "outputs": [
    {
     "data": {
      "text/plain": [
       "2"
      ]
     },
     "execution_count": 41,
     "metadata": {},
     "output_type": "execute_result"
    }
   ],
   "source": [
    "sol.removeDuplicates(given_nums)"
   ]
  },
  {
   "cell_type": "code",
   "execution_count": 42,
   "metadata": {},
   "outputs": [],
   "source": [
    "given_nums = [0,0,1,1,1,2,2,3,3,4]"
   ]
  },
  {
   "cell_type": "code",
   "execution_count": 43,
   "metadata": {},
   "outputs": [
    {
     "data": {
      "text/plain": [
       "5"
      ]
     },
     "execution_count": 43,
     "metadata": {},
     "output_type": "execute_result"
    }
   ],
   "source": [
    "sol.removeDuplicates(given_nums)"
   ]
  },
  {
   "cell_type": "code",
   "execution_count": 13,
   "metadata": {},
   "outputs": [],
   "source": [
    "def removeDups(nums):\n",
    "    for i in range(len(nums) - 1 , 0, -1):\n",
    "        if nums[i] == nums[i - 1]:\n",
    "            del nums[i]\n",
    "    return len(nums)"
   ]
  },
  {
   "cell_type": "code",
   "execution_count": 14,
   "metadata": {},
   "outputs": [],
   "source": [
    "given_nums = [0,0,1,1,1,2,2,3,3,4]"
   ]
  },
  {
   "cell_type": "code",
   "execution_count": 15,
   "metadata": {},
   "outputs": [
    {
     "data": {
      "text/plain": [
       "5"
      ]
     },
     "execution_count": 15,
     "metadata": {},
     "output_type": "execute_result"
    }
   ],
   "source": [
    "removeDups(given_nums)"
   ]
  },
  {
   "cell_type": "markdown",
   "metadata": {},
   "source": [
    "### Reverse Words in a String\n",
    "\n",
    "Given an input string, reverse the string word by word.\n",
    "\n",
    " \n",
    "\n",
    "Example 1:\n",
    "\n",
    "Input: \"the sky is blue\"\n",
    "\n",
    "Output: \"blue is sky the\"\n",
    "\n",
    "Example 2:\n",
    "\n",
    "Input: \"  hello world!  \"\n",
    "\n",
    "Output: \"world! hello\"\n",
    "\n",
    "Explanation: Your reversed string should not contain leading or trailing spaces.\n",
    "\n",
    "Example 3:\n",
    "\n",
    "\n",
    "Input: \"a good   example\"\n",
    "\n",
    "Output: \"example good a\"\n",
    "\n",
    "Explanation: You need to reduce multiple spaces between two words to a single space in the reversed string.\n",
    " \n",
    "\n",
    "Note:\n",
    "\n",
    "A word is defined as a sequence of non-space characters.\n",
    "Input string may contain leading or trailing spaces. However, your reversed string should not contain leading or trailing spaces.\n",
    "You need to reduce multiple spaces between two words to a single space in the reversed string."
   ]
  },
  {
   "cell_type": "code",
   "execution_count": 44,
   "metadata": {},
   "outputs": [],
   "source": [
    "class Solution:\n",
    "    def reverseWords(self, s):\n",
    "        rs = ''\n",
    "        for word in reversed(s.split()):\n",
    "            rs += word + ' '\n",
    "        rs = rs.rstrip()\n",
    "        return rs"
   ]
  },
  {
   "cell_type": "code",
   "execution_count": 45,
   "metadata": {},
   "outputs": [],
   "source": [
    "sol = Solution()"
   ]
  },
  {
   "cell_type": "code",
   "execution_count": 46,
   "metadata": {},
   "outputs": [
    {
     "data": {
      "text/plain": [
       "'blue is sky the'"
      ]
     },
     "execution_count": 46,
     "metadata": {},
     "output_type": "execute_result"
    }
   ],
   "source": [
    "s = \"the sky is blue\"\n",
    "sol.reverseWords(s)"
   ]
  },
  {
   "cell_type": "code",
   "execution_count": 47,
   "metadata": {},
   "outputs": [
    {
     "data": {
      "text/plain": [
       "'world! hello'"
      ]
     },
     "execution_count": 47,
     "metadata": {},
     "output_type": "execute_result"
    }
   ],
   "source": [
    "s = \"  hello world!  \"\n",
    "sol.reverseWords(s)"
   ]
  },
  {
   "cell_type": "code",
   "execution_count": 48,
   "metadata": {},
   "outputs": [
    {
     "data": {
      "text/plain": [
       "'example good a'"
      ]
     },
     "execution_count": 48,
     "metadata": {},
     "output_type": "execute_result"
    }
   ],
   "source": [
    "s = \"a good   example\"\n",
    "sol.reverseWords(s)"
   ]
  },
  {
   "cell_type": "code",
   "execution_count": 365,
   "metadata": {},
   "outputs": [],
   "source": [
    "class Solution(object):\n",
    "    def __init__(self):\n",
    "        self = self\n",
    "    \n",
    "    def reverseWords(self, strs):\n",
    "        rs = ''\n",
    "        for word in reversed(strs.split()):\n",
    "            rs += word + ' '\n",
    "        return rs.rstrip()\n",
    "            "
   ]
  },
  {
   "cell_type": "code",
   "execution_count": 367,
   "metadata": {},
   "outputs": [
    {
     "data": {
      "text/plain": [
       "'example good a'"
      ]
     },
     "execution_count": 367,
     "metadata": {},
     "output_type": "execute_result"
    }
   ],
   "source": [
    "sol = Solution()\n",
    "s = \"a good   example\"\n",
    "sol.reverseWords(s)"
   ]
  },
  {
   "cell_type": "markdown",
   "metadata": {},
   "source": [
    "The Fibonacci numbers, commonly denoted F(n) form a sequence, called the Fibonacci sequence, such that each number is the sum of the two preceding ones, starting from 0 and 1. That is,\n",
    "\n",
    "F(0) = 0,   F(1) = 1\n",
    "\n",
    "F(N) = F(N - 1) + F(N - 2), for N > 1.\n",
    "\n",
    "Given N, calculate F(N).\n",
    "\n",
    " \n",
    "\n",
    "Example 1:\n",
    "\n",
    "Input: 2\n",
    "\n",
    "Output: 1\n",
    "\n",
    "Explanation: F(2) = F(1) + F(0) = 1 + 0 = 1.\n",
    "\n",
    "Example 2:\n",
    "\n",
    "Input: 3\n",
    "\n",
    "Output: 2\n",
    "\n",
    "Explanation: F(3) = F(2) + F(1) = 1 + 1 = 2.\n",
    "\n",
    "Example 3:\n",
    "\n",
    "Input: 4\n",
    "\n",
    "Output: 3\n",
    "\n",
    "Explanation: F(4) = F(3) + F(2) = 2 + 1 = 3.\n",
    " \n",
    "\n",
    "Note:\n",
    "\n",
    "0 ≤ N ≤ 30."
   ]
  },
  {
   "cell_type": "code",
   "execution_count": 336,
   "metadata": {},
   "outputs": [],
   "source": [
    "# Boring solution\n",
    "class Solution:\n",
    "    def __init__(self):\n",
    "        self = self\n",
    "        \n",
    "    def fib(self, n):\n",
    "        a, b = 0, 1\n",
    "        for i in range(1, n + 1):\n",
    "            a, b = b, a + b\n",
    "        return a\n",
    "    "
   ]
  },
  {
   "cell_type": "code",
   "execution_count": 337,
   "metadata": {},
   "outputs": [
    {
     "data": {
      "text/plain": [
       "1"
      ]
     },
     "execution_count": 337,
     "metadata": {},
     "output_type": "execute_result"
    }
   ],
   "source": [
    "sol = Solution()\n",
    "sol.fib(2)"
   ]
  },
  {
   "cell_type": "code",
   "execution_count": 338,
   "metadata": {},
   "outputs": [
    {
     "data": {
      "text/plain": [
       "2"
      ]
     },
     "execution_count": 338,
     "metadata": {},
     "output_type": "execute_result"
    }
   ],
   "source": [
    "sol.fib(3)"
   ]
  },
  {
   "cell_type": "code",
   "execution_count": 339,
   "metadata": {},
   "outputs": [
    {
     "data": {
      "text/plain": [
       "3"
      ]
     },
     "execution_count": 339,
     "metadata": {},
     "output_type": "execute_result"
    }
   ],
   "source": [
    "sol.fib(4)"
   ]
  },
  {
   "cell_type": "code",
   "execution_count": 329,
   "metadata": {},
   "outputs": [],
   "source": [
    "#Dynamic programming solution\n",
    "class Solution:\n",
    "    def __init__(self):\n",
    "        self = self\n",
    "        \n",
    "    def fib(self, num):\n",
    "        num = num - 1\n",
    "\n",
    "        lst = []; f = 1\n",
    "        lst.append(f); lst.append(f) \n",
    "        while num >= f:\n",
    "            f = lst[-1] + lst[-2]  \n",
    "            lst.append(f)\n",
    "        else:\n",
    "            lst.remove(lst[-1]) \n",
    "        \n",
    "        return lst[-1]"
   ]
  },
  {
   "cell_type": "code",
   "execution_count": 136,
   "metadata": {},
   "outputs": [],
   "source": [
    "def fibonacciVal(n):\n",
    "    memo = [0] * (n + 1)\n",
    "    memo[0], memo[1] = 0, 1\n",
    "    for i in range(2, n + 1):\n",
    "        memo[i] = memo[i-1] + memo[i-2]\n",
    "    return memo[n]"
   ]
  },
  {
   "cell_type": "code",
   "execution_count": 140,
   "metadata": {},
   "outputs": [
    {
     "data": {
      "text/plain": [
       "3"
      ]
     },
     "execution_count": 140,
     "metadata": {},
     "output_type": "execute_result"
    }
   ],
   "source": [
    "fibonacciVal(4)"
   ]
  },
  {
   "cell_type": "code",
   "execution_count": 330,
   "metadata": {},
   "outputs": [],
   "source": [
    "sol = Solution()"
   ]
  },
  {
   "cell_type": "code",
   "execution_count": 331,
   "metadata": {},
   "outputs": [
    {
     "data": {
      "text/plain": [
       "1"
      ]
     },
     "execution_count": 331,
     "metadata": {},
     "output_type": "execute_result"
    }
   ],
   "source": [
    "sol.fib(2)"
   ]
  },
  {
   "cell_type": "code",
   "execution_count": 332,
   "metadata": {},
   "outputs": [
    {
     "data": {
      "text/plain": [
       "2"
      ]
     },
     "execution_count": 332,
     "metadata": {},
     "output_type": "execute_result"
    }
   ],
   "source": [
    "sol.fib(3)"
   ]
  },
  {
   "cell_type": "code",
   "execution_count": 335,
   "metadata": {},
   "outputs": [
    {
     "data": {
      "text/plain": [
       "3"
      ]
     },
     "execution_count": 335,
     "metadata": {},
     "output_type": "execute_result"
    }
   ],
   "source": [
    "sol.fib(4)"
   ]
  },
  {
   "cell_type": "markdown",
   "metadata": {},
   "source": [
    "Given an array of strings, group anagrams together.\n",
    "\n",
    "Example:\n",
    "\n",
    "Input: [\"eat\", \"tea\", \"tan\", \"ate\", \"nat\", \"bat\"],\n",
    "\n",
    "Output:\n",
    "\n",
    "[\n",
    "  [\"ate\",\"eat\",\"tea\"],\n",
    "  [\"nat\",\"tan\"],\n",
    "  [\"bat\"]\n",
    "]\n",
    "\n",
    "Note:\n",
    "\n",
    "All inputs will be in lowercase.\n",
    "The order of your output does not matter."
   ]
  },
  {
   "cell_type": "code",
   "execution_count": 340,
   "metadata": {},
   "outputs": [],
   "source": [
    "class Solution(object):\n",
    "    def __init__(self, strs):\n",
    "        self.strs = strs\n",
    "               \n",
    "    def groupAnagrams(self):\n",
    "        ana_dict = {}\n",
    "        for word in self.strs:\n",
    "            alpha_word = ''.join(sorted(word))\n",
    "            if alpha_word in ana_dict.keys():\n",
    "                ana_dict[alpha_word].append(word)\n",
    "            else:\n",
    "                ana_dict[alpha_word] = [word]                \n",
    "        return [value for value in ana_dict.values()]"
   ]
  },
  {
   "cell_type": "code",
   "execution_count": 341,
   "metadata": {},
   "outputs": [],
   "source": [
    "words =  [\"eat\", \"tea\", \"tan\", \"ate\", \"nat\", \"bat\"]\n",
    "sol = Solution(words)"
   ]
  },
  {
   "cell_type": "code",
   "execution_count": 342,
   "metadata": {},
   "outputs": [
    {
     "data": {
      "text/plain": [
       "[['eat', 'tea', 'ate'], ['tan', 'nat'], ['bat']]"
      ]
     },
     "execution_count": 342,
     "metadata": {},
     "output_type": "execute_result"
    }
   ],
   "source": [
    "sol.groupAnagrams()"
   ]
  },
  {
   "cell_type": "code",
   "execution_count": 7,
   "metadata": {},
   "outputs": [
    {
     "name": "stdout",
     "output_type": "stream",
     "text": [
      "Hello, Fred\n",
      "HELLO, FRED!\n"
     ]
    }
   ],
   "source": [
    "class Greeter(object):\n",
    "\n",
    "    # Constructor\n",
    "    def __init__(self, name):\n",
    "        self.name = name  # Create an instance variable\n",
    "\n",
    "    # Instance method\n",
    "    def greet(self, loud=False):\n",
    "        if loud:\n",
    "            print('HELLO, %s!' % self.name.upper())\n",
    "        else:\n",
    "            print('Hello, %s' % self.name)\n",
    "\n",
    "g = Greeter('Fred')  # Construct an instance of the Greeter class\n",
    "g.greet()            # Call an instance method; prints \"Hello, Fred\"\n",
    "g.greet(loud=True)   # Call an instance method; prints \"HELLO, FRED!\""
   ]
  },
  {
   "cell_type": "code",
   "execution_count": 15,
   "metadata": {},
   "outputs": [],
   "source": [
    "class Sorter(object):\n",
    "    def __init__(self, arr):\n",
    "        #self = self\n",
    "        self.arr = arr\n",
    "    def quickSort(self):\n",
    "        if len(self.arr) <= 1:\n",
    "            return self.arr\n",
    "        else:\n",
    "            pivot = self.arr[len(self.arr) // 2]\n",
    "            left = [x for x in self.arr if x < pivot]\n",
    "            middle = [x for x in self.arr if x == pivot]\n",
    "            right = [x for x in self.arr if x > pivot]\n",
    "        return quickSort(left) + middle + quickSort(right)"
   ]
  },
  {
   "cell_type": "code",
   "execution_count": 16,
   "metadata": {},
   "outputs": [
    {
     "data": {
      "text/plain": [
       "[1, 1, 2, 3, 6, 8, 10]"
      ]
     },
     "execution_count": 16,
     "metadata": {},
     "output_type": "execute_result"
    }
   ],
   "source": [
    "some_nums = [3,6,8,10,1,2,1]\n",
    "sorter = Sorter(some_nums)\n",
    "sorter.quickSort()\n"
   ]
  },
  {
   "cell_type": "code",
   "execution_count": 4,
   "metadata": {},
   "outputs": [],
   "source": [
    "\n",
    "\n",
    "def quickSort(arr):\n",
    "\n",
    "    if len(arr) <= 1:\n",
    "        return arr\n",
    "    else:\n",
    "        pivot = arr[len(arr)// 2]\n",
    "        left = [i for i in arr if i < pivot]\n",
    "        middle = [i for i in arr if i == pivot]\n",
    "        right = [i for i in arr if i > pivot]\n",
    "\n",
    "    return quickSort(left) + middle + quickSort(right)"
   ]
  },
  {
   "cell_type": "code",
   "execution_count": 5,
   "metadata": {},
   "outputs": [],
   "source": [
    "some_nums = [3,6,8,10,1,2,1]\n"
   ]
  },
  {
   "cell_type": "code",
   "execution_count": 6,
   "metadata": {},
   "outputs": [
    {
     "data": {
      "text/plain": [
       "[1, 1, 2, 3, 6, 8, 10]"
      ]
     },
     "execution_count": 6,
     "metadata": {},
     "output_type": "execute_result"
    }
   ],
   "source": [
    "quickSort(some_nums)"
   ]
  },
  {
   "cell_type": "code",
   "execution_count": 45,
   "metadata": {},
   "outputs": [],
   "source": [
    "class Solution:\n",
    "    def __init__(self):\n",
    "        self = self\n",
    "    def isValid(self, s):\n",
    "        pair_dict = {\")\": \"(\", \n",
    "                     \"}\": \"{\", \n",
    "                     \"]\": \"[\"}\n",
    "        stack = []\n",
    "        for sym in s:\n",
    "            if sym in pair_dict:\n",
    "                top = stack.pop() if len(stack) != 0 else \"!\"\n",
    "                \n",
    "                if pair_dict[sym] != top:\n",
    "                    return False\n",
    "            else:\n",
    "                stack.append(sym)\n",
    "        \n",
    "        return len(stack) == 0"
   ]
  },
  {
   "cell_type": "code",
   "execution_count": 46,
   "metadata": {},
   "outputs": [],
   "source": [
    "some_string = \"()\""
   ]
  },
  {
   "cell_type": "code",
   "execution_count": 47,
   "metadata": {},
   "outputs": [
    {
     "data": {
      "text/plain": [
       "True"
      ]
     },
     "execution_count": 47,
     "metadata": {},
     "output_type": "execute_result"
    }
   ],
   "source": [
    "sol = Solution()\n",
    "sol.isValid(some_string)"
   ]
  },
  {
   "cell_type": "code",
   "execution_count": 48,
   "metadata": {},
   "outputs": [
    {
     "data": {
      "text/plain": [
       "True"
      ]
     },
     "execution_count": 48,
     "metadata": {},
     "output_type": "execute_result"
    }
   ],
   "source": [
    "some_string = \"()[]{}\"\n",
    "sol.isValid(some_string)"
   ]
  },
  {
   "cell_type": "code",
   "execution_count": 49,
   "metadata": {},
   "outputs": [
    {
     "data": {
      "text/plain": [
       "False"
      ]
     },
     "execution_count": 49,
     "metadata": {},
     "output_type": "execute_result"
    }
   ],
   "source": [
    "some_string = \"(]\"\n",
    "sol.isValid(some_string)"
   ]
  },
  {
   "cell_type": "code",
   "execution_count": 50,
   "metadata": {},
   "outputs": [
    {
     "data": {
      "text/plain": [
       "False"
      ]
     },
     "execution_count": 50,
     "metadata": {},
     "output_type": "execute_result"
    }
   ],
   "source": [
    "some_string = \"([)]\"\n",
    "sol.isValid(some_string)"
   ]
  },
  {
   "cell_type": "code",
   "execution_count": 51,
   "metadata": {},
   "outputs": [
    {
     "data": {
      "text/plain": [
       "True"
      ]
     },
     "execution_count": 51,
     "metadata": {},
     "output_type": "execute_result"
    }
   ],
   "source": [
    "some_string = \"{[]}\"\n",
    "sol.isValid(some_string)"
   ]
  },
  {
   "cell_type": "markdown",
   "metadata": {},
   "source": [
    "Given an array of integers where 1 ≤ a[i] ≤ n (n = size of array), some elements appear twice and others appear once.\n",
    "\n",
    "Find all the elements of [1, n] inclusive that do not appear in this array.\n",
    "\n",
    "Could you do it without extra space and in O(n) runtime? You may assume the returned list does not count as extra space.\n",
    "\n",
    "Example:\n",
    "\n",
    "Input:\n",
    "[4,3,2,7,8,2,3,1]\n",
    "\n",
    "Output:\n",
    "[5,6]"
   ]
  },
  {
   "cell_type": "code",
   "execution_count": 89,
   "metadata": {},
   "outputs": [],
   "source": [
    "class Solution:\n",
    "    def findDisappearedNumbers(self, nums):\n",
    "        miss_nums = [0] * (len(nums) + 1)\n",
    "        for i in nums:\n",
    "            miss_nums[i] += 1\n",
    "        return [i for i in range(1, len(miss_nums)) if miss_nums[i] == 0]"
   ]
  },
  {
   "cell_type": "code",
   "execution_count": 90,
   "metadata": {},
   "outputs": [],
   "source": [
    "sol= Solution()"
   ]
  },
  {
   "cell_type": "code",
   "execution_count": 91,
   "metadata": {},
   "outputs": [],
   "source": [
    "some_nums = [4,3,2,7,8,2,3,1]"
   ]
  },
  {
   "cell_type": "code",
   "execution_count": 92,
   "metadata": {},
   "outputs": [
    {
     "data": {
      "text/plain": [
       "[5, 6]"
      ]
     },
     "execution_count": 92,
     "metadata": {},
     "output_type": "execute_result"
    }
   ],
   "source": [
    "sol.findDisappearedNumbers(some_nums)"
   ]
  },
  {
   "cell_type": "code",
   "execution_count": null,
   "metadata": {},
   "outputs": [],
   "source": []
  },
  {
   "cell_type": "markdown",
   "metadata": {},
   "source": [
    "Given a sorted array and a target value, return the index if the target is found. If not, return the index where it would be if it were inserted in order.\n",
    "\n",
    "You may assume no duplicates in the array.\n",
    "\n",
    "Example 1:\n",
    "\n",
    "Input: [1,3,5,6], 5\n",
    "\n",
    "Output: 2\n",
    "\n",
    "Example 2:\n",
    "\n",
    "Input: [1,3,5,6], 2\n",
    "\n",
    "Output: 1\n",
    "\n",
    "Example 3:\n",
    "\n",
    "Input: [1,3,5,6], 7\n",
    "\n",
    "Output: 4\n",
    "\n",
    "Example 4:\n",
    "\n",
    "Input: [1,3,5,6], 0\n",
    "\n",
    "Output: 0"
   ]
  },
  {
   "cell_type": "code",
   "execution_count": 178,
   "metadata": {},
   "outputs": [],
   "source": [
    "def searchInsert(nums, target):\n",
    "    if target > nums[-1]:\n",
    "        return len(nums)\n",
    "    i = 0\n",
    "    for num in nums:\n",
    "        if num < target:\n",
    "            i += 1\n",
    "        else:\n",
    "            return i"
   ]
  },
  {
   "cell_type": "markdown",
   "metadata": {},
   "source": [
    "Given an array of size n, find the majority element. The majority element is the element that appears more than ⌊ n/2 ⌋ times.\n",
    "\n",
    "You may assume that the array is non-empty and the majority element always exist in the array.\n",
    "\n",
    "Example 1:\n",
    "\n",
    "Input: [3,2,3]\n",
    "\n",
    "Output: 3\n",
    "\n",
    "Example 2:\n",
    "\n",
    "Input: [2,2,1,1,1,2,2]\n",
    "\n",
    "Output: 2"
   ]
  },
  {
   "cell_type": "code",
   "execution_count": 186,
   "metadata": {},
   "outputs": [],
   "source": [
    "def majorityElement(nums):\n",
    "    counter = {} \n",
    "    for num in nums:\n",
    "        counter[num] = counter.get(num, 0) + 1\n",
    "    return max(counter, key = counter.get)    "
   ]
  },
  {
   "cell_type": "code",
   "execution_count": 189,
   "metadata": {},
   "outputs": [
    {
     "data": {
      "text/plain": [
       "2"
      ]
     },
     "execution_count": 189,
     "metadata": {},
     "output_type": "execute_result"
    }
   ],
   "source": [
    "majorityElement([2,2,1,1,1,2,2])"
   ]
  },
  {
   "cell_type": "markdown",
   "metadata": {},
   "source": [
    "Given an integer array of size n, find all elements that appear more than ⌊ n/3 ⌋ times.\n",
    "\n",
    "Note: The algorithm should run in linear time and in O(1) space.\n",
    "\n",
    "Example 1:\n",
    "\n",
    "Input: [3,2,3]\n",
    "\n",
    "Output: [3]\n",
    "\n",
    "Example 2:\n",
    "\n",
    "Input: [1,1,1,3,3,2,2,2]\n",
    "\n",
    "Output: [1,2]"
   ]
  },
  {
   "cell_type": "code",
   "execution_count": 191,
   "metadata": {},
   "outputs": [],
   "source": [
    "def majorityElement(nums):\n",
    "      if len(nums) <= 1:\n",
    "            return nums\n",
    "        \n",
    "    counter = {}\n",
    "    for num in nums:\n",
    "        counter[num] = counter.get(num, 0) + 1\n",
    "\n",
    "    max_value =  max(counter.values())\n",
    "\n",
    "    if all(value == max_value for value in counter.values()):\n",
    "        return []\n",
    "    return [key for key, value in counter.items() if value == max_value]\n"
   ]
  },
  {
   "cell_type": "code",
   "execution_count": 201,
   "metadata": {},
   "outputs": [
    {
     "data": {
      "text/plain": [
       "[1, 2]"
      ]
     },
     "execution_count": 201,
     "metadata": {},
     "output_type": "execute_result"
    }
   ],
   "source": [
    "majorityElement ([1,1,1,3,3,2,2,2])"
   ]
  },
  {
   "cell_type": "code",
   "execution_count": 200,
   "metadata": {},
   "outputs": [],
   "source": [
    "def majorityElemnet(nums):\n",
    "    counter = {}\n",
    "    for num in nums:\n",
    "        counter[num] = counter.get(num, 0) + 1\n",
    "    return [key for key in counter if counter[key] > (len(nums)// 3)]"
   ]
  },
  {
   "cell_type": "markdown",
   "metadata": {},
   "source": [
    "Given a matrix A, return the transpose of A.\n",
    "\n",
    "The transpose of a matrix is the matrix flipped over it's main diagonal, switching the row and column indices of the matrix.\n",
    "\n",
    " \n",
    "\n",
    "Example 1:\n",
    "\n",
    "Input: [[1,2,3],[4,5,6],[7,8,9]]\n",
    "    \n",
    "Output: [[1,4,7],[2,5,8],[3,6,9]]\n",
    "\n",
    "Example 2:\n",
    "\n",
    "Input: [[1,2,3],[4,5,6]]\n",
    "\n",
    "Output: [[1,4],[2,5],[3,6]]\n",
    " \n",
    "\n",
    "Note:\n",
    "\n",
    "1 <= A.length <= 1000\n",
    "\n",
    "1 <= A[0].length <= 1000"
   ]
  },
  {
   "cell_type": "code",
   "execution_count": null,
   "metadata": {},
   "outputs": [],
   "source": [
    "def transpose(A):\n",
    "    return list(map(list, zip(*A)))"
   ]
  },
  {
   "cell_type": "markdown",
   "metadata": {},
   "source": [
    "Given an array of integers and an integer k, find out whether there are two distinct indices i and j in the array such that nums[i] = nums[j] and the absolute difference between i and j is at most k.\n",
    "\n",
    "Example 1:\n",
    "\n",
    "Input: nums = [1,2,3,1], k = 3\n",
    "\n",
    "Output: true\n",
    "\n",
    "Example 2:\n",
    "\n",
    "Input: nums = [1,0,1,1], k = 1\n",
    "\n",
    "Output: true\n",
    "\n",
    "Example 3:\n",
    "\n",
    "Input: nums = [1,2,3,1,2,3], k = 2\n",
    "\n",
    "Output: false"
   ]
  },
  {
   "cell_type": "code",
   "execution_count": 202,
   "metadata": {},
   "outputs": [],
   "source": [
    "def containsNearbyDuplicate(nums, k):\n",
    "    dups = {}\n",
    "    for idx, num in enumerate(nums):\n",
    "        if num in dups and idx - dups[num] <= k:\n",
    "            return True\n",
    "        \n",
    "        dups[num] = idx\n",
    "    \n",
    "    return False"
   ]
  },
  {
   "cell_type": "code",
   "execution_count": 205,
   "metadata": {},
   "outputs": [
    {
     "data": {
      "text/plain": [
       "False"
      ]
     },
     "execution_count": 205,
     "metadata": {},
     "output_type": "execute_result"
    }
   ],
   "source": [
    "containsNearbyDuplicate(nums = [1,2,3,1,2,3], k = 2)"
   ]
  },
  {
   "cell_type": "markdown",
   "metadata": {},
   "source": [
    "Given a string S, return the \"reversed\" string where all characters that are not a letter stay in the same place, and all letters reverse their positions.\n",
    "\n",
    " \n",
    "\n",
    "Example 1:\n",
    "\n",
    "Input: \"ab-cd\"\n",
    "\n",
    "Output: \"dc-ba\"\n",
    "\n",
    "Example 2:\n",
    "\n",
    "\n",
    "Input: \"a-bC-dEf-ghIj\"\n",
    "\n",
    "Output: \"j-Ih-gfE-dCba\"\n",
    "\n",
    "Example 3:\n",
    "\n",
    "Input: \"Test1ng-Leet=code-Q!\"\n",
    "\n",
    "Output: \"Qedo1ct-eeLg=ntse-T!\"\n",
    " \n",
    "\n",
    "Note:\n",
    "\n",
    "S.length <= 100\n",
    "\n",
    "33 <= S[i].ASCIIcode <= 122 \n",
    "\n",
    "S doesn't contain \\ or \""
   ]
  },
  {
   "cell_type": "code",
   "execution_count": 206,
   "metadata": {},
   "outputs": [],
   "source": [
    "def reverseOnlyLetters(S):\n",
    "    ans = []\n",
    "    letters = [char for char in S if char.isalpha()]\n",
    "    for char in S:\n",
    "        if char.isalpha():\n",
    "            ans.append(letters.pop())\n",
    "        else:\n",
    "            ans.append(char)\n",
    "    return ''.join(ans)"
   ]
  },
  {
   "cell_type": "code",
   "execution_count": 210,
   "metadata": {},
   "outputs": [
    {
     "data": {
      "text/plain": [
       "'Qedo1ct-eeLg=ntse-T!'"
      ]
     },
     "execution_count": 210,
     "metadata": {},
     "output_type": "execute_result"
    }
   ],
   "source": [
    "reverseOnlyLetters(\"Test1ng-Leet=code-Q!\")"
   ]
  },
  {
   "cell_type": "markdown",
   "metadata": {},
   "source": [
    "You're given strings J representing the types of stones that are jewels, and S representing the stones you have.  Each character in S is a type of stone you have.  You want to know how many of the stones you have are also jewels.\n",
    "\n",
    "The letters in J are guaranteed distinct, and all characters in J and S are letters. Letters are case sensitive, so \"a\" is considered a different type of stone from \"A\".\n",
    "\n",
    "Example 1:\n",
    "\n",
    "Input: J = \"aA\", S = \"aAAbbbb\"\n",
    "Output: 3\n",
    "\n",
    "Example 2:\n",
    "\n",
    "Input: J = \"z\", S = \"ZZ\"\n",
    "\n",
    "Output: 0\n",
    "\n",
    "Note:\n",
    "\n",
    "S and J will consist of letters and have length at most 50.\n",
    "\n",
    "The characters in J are distinct."
   ]
  },
  {
   "cell_type": "code",
   "execution_count": 112,
   "metadata": {},
   "outputs": [],
   "source": [
    "def numJewelsInStones(J, S):\n",
    "    #jewels = [char for char in J]\n",
    "    jewel_count = 0\n",
    "    for char in S:\n",
    "        if char in J:\n",
    "            jewel_count += 1\n",
    "    return jewel_count"
   ]
  },
  {
   "cell_type": "code",
   "execution_count": 113,
   "metadata": {},
   "outputs": [
    {
     "data": {
      "text/plain": [
       "3"
      ]
     },
     "execution_count": 113,
     "metadata": {},
     "output_type": "execute_result"
    }
   ],
   "source": [
    "numJewelsInStones( J = \"aA\", S = \"aAAbbbb\")"
   ]
  },
  {
   "cell_type": "markdown",
   "metadata": {},
   "source": [
    "Given a non-empty string check if it can be constructed by taking a substring of it and appending multiple copies of the substring together. You may assume the given string consists of lowercase English letters only and its length will not exceed 10000.\n",
    " \n",
    "Example 1:\n",
    "\n",
    "Input: \"abab\"\n",
    "\n",
    "Output: True\n",
    "\n",
    "Explanation: It's the substring \"ab\" twice.\n",
    "\n",
    "Example 2:\n",
    "\n",
    "Input: \"aba\"\n",
    "\n",
    "Output: False\n",
    "\n",
    "Example 3:\n",
    "\n",
    "Input: \"abcabcabcabc\"\n",
    "\n",
    "Output: True\n",
    "\n",
    "Explanation: It's the substring \"abc\" four times. (And the substring \"abcabc\" twice.)"
   ]
  },
  {
   "cell_type": "code",
   "execution_count": 25,
   "metadata": {},
   "outputs": [],
   "source": [
    "def repeatedSubstringPattern(s):\n",
    "    double_s = s + s\n",
    "    return s in double_s[1:-1]"
   ]
  },
  {
   "cell_type": "code",
   "execution_count": 26,
   "metadata": {},
   "outputs": [
    {
     "data": {
      "text/plain": [
       "True"
      ]
     },
     "execution_count": 26,
     "metadata": {},
     "output_type": "execute_result"
    }
   ],
   "source": [
    "repeatedSubstringPattern(\"abab\")"
   ]
  },
  {
   "cell_type": "code",
   "execution_count": 29,
   "metadata": {},
   "outputs": [],
   "source": [
    "subs = \"abcabcabcabc\" + \"abcabcabcabc\""
   ]
  },
  {
   "cell_type": "code",
   "execution_count": 30,
   "metadata": {},
   "outputs": [
    {
     "data": {
      "text/plain": [
       "'abcabcabcabcabcabcabcabc'"
      ]
     },
     "execution_count": 30,
     "metadata": {},
     "output_type": "execute_result"
    }
   ],
   "source": [
    "subs"
   ]
  },
  {
   "cell_type": "code",
   "execution_count": 32,
   "metadata": {},
   "outputs": [
    {
     "data": {
      "text/plain": [
       "True"
      ]
     },
     "execution_count": 32,
     "metadata": {},
     "output_type": "execute_result"
    }
   ],
   "source": [
    "'abcabcabcabc' in subs[1:-1]"
   ]
  },
  {
   "cell_type": "markdown",
   "metadata": {},
   "source": [
    "International Morse Code defines a standard encoding where each letter is mapped to a series of dots and dashes, as follows: \"a\" maps to \".-\", \"b\" maps to \"-...\", \"c\" maps to \"-.-.\", and so on.\n",
    "\n",
    "For convenience, the full table for the 26 letters of the English alphabet is given below:\n",
    "\n",
    "[\".-\",\"-...\",\"-.-.\",\"-..\",\".\",\"..-.\",\"--.\",\"....\",\"..\",\".---\",\"-.-\",\".-..\",\"--\",\"-.\",\"---\",\".--.\",\"--.-\",\".-.\",\"...\",\"-\",\"..-\",\"...-\",\".--\",\"-..-\",\"-.--\",\"--..\"]\n",
    "\n",
    "Now, given a list of words, each word can be written as a concatenation of the Morse code of each letter. For example, \"cba\" can be written as \"-.-..--...\", (which is the concatenation \"-.-.\" + \"-...\" + \".-\"). We'll call such a concatenation, the transformation of a word.\n",
    "\n",
    "Return the number of different transformations among all words we have.\n",
    "\n",
    "Example:\n",
    "\n",
    "Input: words = [\"gin\", \"zen\", \"gig\", \"msg\"]\n",
    "\n",
    "Output: 2\n",
    "\n",
    "Explanation: \n",
    "\n",
    "The transformation of each word is:\n",
    "\n",
    "\"gin\" -> \"--...-.\"\n",
    "\n",
    "\"zen\" -> \"--...-.\"\n",
    "\n",
    "\"gig\" -> \"--...--.\"\n",
    "\n",
    "\"msg\" -> \"--...--.\"\n",
    "\n",
    "\n",
    "There are 2 different transformations, \"--...-.\" and \"--...--.\".\n",
    "\n",
    "Note:\n",
    "\n",
    "The length of words will be at most 100.\n",
    "\n",
    "Each words[i] will have length in range [1, 12].\n",
    "\n",
    "words[i] will only consist of lowercase letters."
   ]
  },
  {
   "cell_type": "code",
   "execution_count": 48,
   "metadata": {},
   "outputs": [],
   "source": [
    "def uniqueMorseRepresentations(words):\n",
    "    mourse = [\".-\",\"-...\",\"-.-.\",\"-..\",\".\",\"..-.\",\"--.\",\"....\",\"..\",\n",
    "                    \".---\",\"-.-\",\".-..\",\"--\",\"-.\",\"---\",\".--.\",\"--.-\",\".-.\",\n",
    "                    \"...\",\"-\",\"..-\",\"...-\",\".--\",\"-..-\",\"-.--\",\"--..\"]\n",
    "\n",
    "    alphabet = ['a','b','c','d','e','f','g','h','i','j','k','l','m',\n",
    "                'n','o','p','q','r','s','t','u','v','w','x','y','z']\n",
    "\n",
    "    code = {i:j for i,j in zip(alphabet, mourse)}\n",
    "\n",
    "    morse_words = []\n",
    "    for word in words:\n",
    "        morse_words.append(''.join(list(map(code.get, list(word)))))\n",
    "\n",
    "    return len(set(morse_words))"
   ]
  },
  {
   "cell_type": "code",
   "execution_count": 49,
   "metadata": {},
   "outputs": [
    {
     "data": {
      "text/plain": [
       "2"
      ]
     },
     "execution_count": 49,
     "metadata": {},
     "output_type": "execute_result"
    }
   ],
   "source": [
    "uniqueMorseRepresentations([\"gin\", \"zen\", \"gig\", \"msg\"])"
   ]
  },
  {
   "cell_type": "code",
   "execution_count": 40,
   "metadata": {},
   "outputs": [],
   "source": [
    " def uniqueMorseRepresentations(words):\n",
    "    mourse_codes = [\".-\",\"-...\",\"-.-.\",\"-..\",\".\",\"..-.\",\"--.\",\"....\",\"..\",\".---\",\"-.-\",\".-..\",\"--\",\"-.\",\"---\",\".--.\",\"--.-\",\".-.\",\"...\",\"-\",\"..-\",\"...-\",\".--\",\"-..-\",\"-.--\",\"--..\"]\n",
    "\n",
    "    alphabet = ['a','b','c','d','e','f','g','h','i','j','k','l','m','n','o','p','q','r','s','t','u','v','w','x','y','z']\n",
    "\n",
    "    dct = {i:j for i,j in zip(alphabet, mourse_codes)}\n",
    "\n",
    "    words_morse = []\n",
    "    for word in words:\n",
    "        words_morse.append(''.join(list(map(dct.get, list(word)))))\n",
    "\n",
    "    return len(set(words_morse))"
   ]
  },
  {
   "cell_type": "code",
   "execution_count": 33,
   "metadata": {},
   "outputs": [],
   "source": [
    "morse = [\".-\",\"-...\",\"-.-.\",\"-..\",\".\",\"..-.\",\"--.\",\"....\",\n",
    "         \"..\",\".---\",\"-.-\",\".-..\",\"--\",\"-.\",\"---\",\".--.\",\n",
    "         \"--.-\",\".-.\",\"...\",\"-\",\"..-\",\"...-\",\".--\",\"-..-\",\n",
    "         \"-.--\",\"--..\"]\n",
    "\n",
    "alphabet = ['a', 'b', 'c', 'd', 'e','f', 'g', 'h', 'i','j', 'k'\n",
    "           'l', 'm','n','o','p','q','r','s','t','u','v','w','x',\n",
    "           'y','z']\n",
    "code = {i:j for i, j in zip(morse, alphabet)}"
   ]
  },
  {
   "cell_type": "code",
   "execution_count": 34,
   "metadata": {},
   "outputs": [
    {
     "data": {
      "text/plain": [
       "{'.-': 'a',\n",
       " '-...': 'b',\n",
       " '-.-.': 'c',\n",
       " '-..': 'd',\n",
       " '.': 'e',\n",
       " '..-.': 'f',\n",
       " '--.': 'g',\n",
       " '....': 'h',\n",
       " '..': 'i',\n",
       " '.---': 'j',\n",
       " '-.-': 'kl',\n",
       " '.-..': 'm',\n",
       " '--': 'n',\n",
       " '-.': 'o',\n",
       " '---': 'p',\n",
       " '.--.': 'q',\n",
       " '--.-': 'r',\n",
       " '.-.': 's',\n",
       " '...': 't',\n",
       " '-': 'u',\n",
       " '..-': 'v',\n",
       " '...-': 'w',\n",
       " '.--': 'x',\n",
       " '-..-': 'y',\n",
       " '-.--': 'z'}"
      ]
     },
     "execution_count": 34,
     "metadata": {},
     "output_type": "execute_result"
    }
   ],
   "source": [
    "code"
   ]
  },
  {
   "cell_type": "code",
   "execution_count": 61,
   "metadata": {},
   "outputs": [],
   "source": [
    "def reverseString(s):\n",
    "        \"\"\"\n",
    "        Do not return anything, modify s in-place instead.\n",
    "        \"\"\"\n",
    "        s[:] = s[::-1]\n",
    "        print(s)"
   ]
  },
  {
   "cell_type": "code",
   "execution_count": 62,
   "metadata": {},
   "outputs": [
    {
     "name": "stdout",
     "output_type": "stream",
     "text": [
      "['o', 'l', 'l', 'e', 'h']\n",
      "<built-in method reverse of list object at 0x000001B911688488>\n"
     ]
    }
   ],
   "source": [
    "reverseString([\"h\",\"e\",\"l\",\"l\",\"o\"])"
   ]
  },
  {
   "cell_type": "markdown",
   "metadata": {},
   "source": [
    "Given a string and an integer k, you need to reverse the first k characters for every 2k characters counting from the start of the string. If there are less than k characters left, reverse all of them. If there are less than 2k but greater than or equal to k characters, then reverse the first k characters and left the other as original.\n",
    "Example:\n",
    "\n",
    "Input: s = \"abcdefg\", k = 2\n",
    "\n",
    "Output: \"bacdfeg\"\n",
    "\n",
    "Restrictions:\n",
    "\n",
    "The string consists of lower English letters only.\n",
    "Length of the given string and k will in the range [1, 10000]"
   ]
  },
  {
   "cell_type": "code",
   "execution_count": 79,
   "metadata": {},
   "outputs": [],
   "source": [
    "def reverseString(s, k):\n",
    "        \"\"\"\n",
    "        Do not return anything, modify s in-place instead.\n",
    "        \"\"\"\n",
    "        r_s = ''\n",
    "        for i in range(0, k):\n",
    "            r_s = s[i] + r_s\n",
    "        return r_s + s[k:]"
   ]
  },
  {
   "cell_type": "code",
   "execution_count": 80,
   "metadata": {},
   "outputs": [
    {
     "data": {
      "text/plain": [
       "'bacdefg'"
      ]
     },
     "execution_count": 80,
     "metadata": {},
     "output_type": "execute_result"
    }
   ],
   "source": [
    "reverseString(s = \"abcdefg\", k = 2)"
   ]
  },
  {
   "cell_type": "markdown",
   "metadata": {},
   "source": [
    "Given a string, you need to reverse the order of characters in each word within a sentence while still preserving whitespace and initial word order.\n",
    "\n",
    "Example 1:\n",
    "\n",
    "Input: \"Let's take LeetCode contest\"\n",
    "\n",
    "Output: \"s'teL ekat edoCteeL tsetnoc\"\n",
    "\n",
    "Note: In the string, each word is separated by single space and there will not be any extra space in the string."
   ]
  },
  {
   "cell_type": "code",
   "execution_count": 87,
   "metadata": {},
   "outputs": [],
   "source": [
    "def reverseWords(s):\n",
    "    output = ''\n",
    "    for char in s.split():\n",
    "        output = output + ' ' + char[::-1]\n",
    "    return output.lstrip()\n",
    "    "
   ]
  },
  {
   "cell_type": "code",
   "execution_count": 88,
   "metadata": {},
   "outputs": [
    {
     "data": {
      "text/plain": [
       "\"s'teL ekat edoCteeL tsetnoc\""
      ]
     },
     "execution_count": 88,
     "metadata": {},
     "output_type": "execute_result"
    }
   ],
   "source": [
    "reverseWords(\"Let's take LeetCode contest\")"
   ]
  },
  {
   "cell_type": "markdown",
   "metadata": {},
   "source": [
    "Given an array A of non-negative integers, return an array consisting of all the even elements of A, followed by all the odd elements of A.\n",
    "\n",
    "You may return any answer array that satisfies this condition.\n",
    "\n",
    " \n",
    "\n",
    "Example 1:\n",
    "\n",
    "Input: [3,1,2,4]\n",
    "\n",
    "Output: [2,4,3,1]\n",
    "\n",
    "The outputs [4,2,3,1], [2,4,1,3], and [4,2,1,3] would also be accepted.\n",
    " \n",
    "\n",
    "Note:\n",
    "\n",
    "1 <= A.length <= 5000\n",
    "\n",
    "0 <= A[i] <= 5000"
   ]
  },
  {
   "cell_type": "code",
   "execution_count": 92,
   "metadata": {},
   "outputs": [],
   "source": [
    "def sortArrayByParity(A):\n",
    "    result = []\n",
    "    for num in A:\n",
    "        if num % 2 == 0:\n",
    "            result.insert(0, num)\n",
    "        else:\n",
    "            result.append(num)\n",
    "    return result\n",
    "    "
   ]
  },
  {
   "cell_type": "code",
   "execution_count": 93,
   "metadata": {},
   "outputs": [
    {
     "data": {
      "text/plain": [
       "[4, 2, 3, 1]"
      ]
     },
     "execution_count": 93,
     "metadata": {},
     "output_type": "execute_result"
    }
   ],
   "source": [
    "sortArrayByParity([3,1,2,4])"
   ]
  },
  {
   "cell_type": "markdown",
   "metadata": {},
   "source": [
    "In a array A of size 2N, there are N+1 unique elements, and exactly one of these elements is repeated N times.\n",
    "\n",
    "Return the element repeated N times.\n",
    "\n",
    " \n",
    "\n",
    "Example 1:\n",
    "\n",
    "Input: [1,2,3,3]\n",
    "\n",
    "Output: 3\n",
    "\n",
    "Example 2:\n",
    "\n",
    "Input: [2,1,2,5,3,2]\n",
    "\n",
    "Output: 2\n",
    "\n",
    "Example 3:\n",
    "\n",
    "Input: [5,1,5,2,5,3,5,4]\n",
    "\n",
    "Output: 5\n",
    " \n",
    "\n",
    "Note:\n",
    "\n",
    "4 <= A.length <= 10000\n",
    "\n",
    "0 <= A[i] < 10000\n",
    "\n",
    "A.length is even"
   ]
  },
  {
   "cell_type": "code",
   "execution_count": 107,
   "metadata": {},
   "outputs": [],
   "source": [
    "def repeatedNTimes(A):\n",
    "    count = {}\n",
    "    for num in A:\n",
    "        count[num] = count.get(num, 0) + 1\n",
    "    return max(count, key = count.get)"
   ]
  },
  {
   "cell_type": "code",
   "execution_count": 109,
   "metadata": {},
   "outputs": [
    {
     "data": {
      "text/plain": [
       "5"
      ]
     },
     "execution_count": 109,
     "metadata": {},
     "output_type": "execute_result"
    }
   ],
   "source": [
    "repeatedNTimes([5,1,5,2,5,3,5,4])"
   ]
  },
  {
   "cell_type": "markdown",
   "metadata": {},
   "source": [
    "Given an array A of non-negative integers, half of the integers in A are odd, and half of the integers are even.\n",
    "\n",
    "Sort the array so that whenever A[i] is odd, i is odd; and whenever A[i] is even, i is even.\n",
    "\n",
    "You may return any answer array that satisfies this condition.\n",
    "\n",
    " \n",
    "\n",
    "Example 1:\n",
    "\n",
    "Input: [4,2,5,7]\n",
    "\n",
    "Output: [4,5,2,7]\n",
    "\n",
    "Explanation: [4,7,2,5], [2,5,4,7], [2,7,4,5] would also have been accepted.\n",
    " \n",
    "\n",
    "Note:\n",
    "\n",
    "2 <= A.length <= 20000\n",
    "\n",
    "A.length % 2 == 0\n",
    "\n",
    "0 <= A[i] <= 1000\n",
    " "
   ]
  },
  {
   "cell_type": "code",
   "execution_count": 128,
   "metadata": {},
   "outputs": [],
   "source": [
    "def sortArrayByParityII(A):\n",
    "    \n",
    "    answer = [None] * len(A)\n",
    "    \n",
    "    idx = 0\n",
    "    for num in A:\n",
    "        if num % 2 == 0:\n",
    "            answer[idx] = num\n",
    "            idx += 2\n",
    "    \n",
    "    idx = 1\n",
    "    for num in A:\n",
    "        if num % 2 == 1:\n",
    "            answer[idx] = num\n",
    "            idx += 2\n",
    "   \n",
    "\n",
    "    return answer"
   ]
  },
  {
   "cell_type": "code",
   "execution_count": 129,
   "metadata": {},
   "outputs": [
    {
     "data": {
      "text/plain": [
       "[4, 5, 2, 7]"
      ]
     },
     "execution_count": 129,
     "metadata": {},
     "output_type": "execute_result"
    }
   ],
   "source": [
    "sortArrayByParityII([4,2,5,7])"
   ]
  },
  {
   "cell_type": "markdown",
   "metadata": {},
   "source": [
    "Given a string S and a character C, return an array of integers representing the shortest distance from the character C in the string.\n",
    "\n",
    "Example 1:\n",
    "\n",
    "Input: S = \"loveleetcode\", C = 'e'\n",
    "\n",
    "Output: [3, 2, 1, 0, 1, 0, 0, 1, 2, 2, 1, 0]\n",
    " \n",
    "\n",
    "Note:\n",
    "\n",
    "S string length is in [1, 10000].\n",
    "\n",
    "C is a single character, and guaranteed to be in string S.\n",
    "\n",
    "All letters in S and C are lowercase."
   ]
  },
  {
   "cell_type": "code",
   "execution_count": 136,
   "metadata": {},
   "outputs": [],
   "source": [
    "def shortestToChar(S, C):\n",
    "    prev = 0\n",
    "    ans = []\n",
    "    for i, x in enumerate(S):\n",
    "        if x == C: \n",
    "            prev = i\n",
    "            \n",
    "        ans.append(i - prev)\n",
    "\n",
    "    prev = 0\n",
    "    for i in range(len(S) - 1, -1, -1):\n",
    "        if S[i] == C: \n",
    "            prev = i\n",
    "    ans[i] = min(ans[i], prev - i)\n",
    "\n",
    "    return ans\n",
    "    "
   ]
  },
  {
   "cell_type": "markdown",
   "metadata": {},
   "source": [
    "Approach: For each character at index i in S[], let us try to find the distance to the next character X going left to right, and from right to left. The answer will be the minimum of these two values.\n",
    "\n",
    "When going from left to right, we remember the index of the last character X we’ve seen. Then the answer is i – prev.\n",
    "\n",
    "When going from right to left, the answer is prev – i.\n",
    "\n",
    "We take the minimum of these two answers to create our final distance array.\n",
    "\n",
    "Finally, print the array."
   ]
  },
  {
   "cell_type": "code",
   "execution_count": 3,
   "metadata": {},
   "outputs": [
    {
     "name": "stdout",
     "output_type": "stream",
     "text": [
      "-inf\n",
      "[0, 1, 2, 3, 4, 3, 2, 1, 0, 1, 2, 3, 4]\n"
     ]
    }
   ],
   "source": [
    "def shortestDistance(S, X): \n",
    "  \n",
    "    # Find distance from occurrences of X \n",
    "    # appearing before current character. \n",
    "    prev = float('-inf')\n",
    "    print(prev)\n",
    "    ans = [] \n",
    "    for i, char in enumerate(S): \n",
    "        if char == X: \n",
    "            prev = i \n",
    "        ans.append(i - prev) \n",
    "  \n",
    "  \n",
    "    # Find distance from occurrences of X \n",
    "    # appearing after current character and \n",
    "    # compare this distance with earlier. \n",
    "    prev = float('inf') \n",
    "    for i in range(len(S) - 1, -1, -1): \n",
    "        if S[i] == X: \n",
    "            prev = i \n",
    "        ans[i] = min(ans[i], prev - i) \n",
    "  \n",
    "    # return array of distance \n",
    "    return ans \n",
    "  \n",
    "  \n",
    "# Driver code \n",
    "S = \"geeksforgeeks\"\n",
    "X = \"g\"\n",
    "  \n",
    "# Function call to print answer \n",
    "print(shortestDistance(S, X)) "
   ]
  },
  {
   "cell_type": "code",
   "execution_count": 137,
   "metadata": {},
   "outputs": [
    {
     "data": {
      "text/plain": [
       "[0, 1, 2, 0, 1, 0, 0, 1, 2, 3, 4, 0]"
      ]
     },
     "execution_count": 137,
     "metadata": {},
     "output_type": "execute_result"
    }
   ],
   "source": [
    "shortestToChar(S = \"loveleetcode\", C = 'e')"
   ]
  },
  {
   "cell_type": "markdown",
   "metadata": {},
   "source": [
    "We are given two sentences A and B.  (A sentence is a string of space separated words.  Each word consists only of lowercase letters.)\n",
    "\n",
    "A word is uncommon if it appears exactly once in one of the sentences, and does not appear in the other sentence.\n",
    "\n",
    "Return a list of all uncommon words. \n",
    "\n",
    "You may return the list in any order.\n",
    "\n",
    " \n",
    "\n",
    "Example 1:\n",
    "\n",
    "Input: A = \"this apple is sweet\", B = \"this apple is sour\"\n",
    "\n",
    "Output: [\"sweet\",\"sour\"]\n",
    "\n",
    "Example 2:\n",
    "\n",
    "Input: A = \"apple apple\", B = \"banana\"\n",
    "\n",
    "Output: [\"banana\"]\n",
    " \n",
    "\n",
    "Note:\n",
    "\n",
    "0 <= A.length <= 200\n",
    "\n",
    "0 <= B.length <= 200\n",
    "\n",
    "A and B both contain only spaces and lowercase letters."
   ]
  },
  {
   "cell_type": "code",
   "execution_count": 145,
   "metadata": {},
   "outputs": [],
   "source": [
    "def uncommonFromSentences(A, B):\n",
    "    big_str = A + ' ' +  B\n",
    "    count = {}\n",
    "    for word in big_str.split():\n",
    "        count[word] = count.get(word, 0) + 1\n",
    "    return [key for key, value in count.items() if value == 1]"
   ]
  },
  {
   "cell_type": "code",
   "execution_count": 147,
   "metadata": {},
   "outputs": [
    {
     "data": {
      "text/plain": [
       "['sweet', 'sour']"
      ]
     },
     "execution_count": 147,
     "metadata": {},
     "output_type": "execute_result"
    }
   ],
   "source": [
    "uncommonFromSentences(A = \"this apple is sweet\", B = \"this apple is sour\")"
   ]
  },
  {
   "cell_type": "markdown",
   "metadata": {},
   "source": [
    "You have a list of words and a pattern, and you want to know which words in words matches the pattern.\n",
    "\n",
    "A word matches the pattern if there exists a permutation of letters p so that after replacing every letter x in the pattern with p(x), we get the desired word.\n",
    "\n",
    "(Recall that a permutation of letters is a bijection from letters to letters: every letter maps to another letter, and no two letters map to the same letter.)\n",
    "\n",
    "Return a list of the words in words that match the given pattern. \n",
    "\n",
    "You may return the answer in any order.\n",
    "\n",
    " \n",
    "\n",
    "Example 1:\n",
    "\n",
    "Input: words = [\"abc\",\"deq\",\"mee\",\"aqq\",\"dkd\",\"ccc\"], pattern = \"abb\"\n",
    "    \n",
    "Output: [\"mee\",\"aqq\"]\n",
    "\n",
    "Explanation: \"mee\" matches the pattern because there is a permutation {a -> m, b -> e, ...}. \n",
    "\"ccc\" does not match the pattern because {a -> c, b -> c, ...} is not a permutation,\n",
    "since a and b map to the same letter.\n",
    " \n",
    "\n",
    "Note:\n",
    "\n",
    "1 <= words.length <= 50\n",
    "\n",
    "1 <= pattern.length = words[i].length <= 20"
   ]
  },
  {
   "cell_type": "code",
   "execution_count": null,
   "metadata": {},
   "outputs": [],
   "source": [
    "def findAndReplacePattern(words, pattern):\n",
    "    def match(w):\n",
    "            m1, m2 = {}, {}\n",
    "            return all((m1.setdefault(i, j), m2.setdefault(j, i)) == (j, i) for i, j in zip(w, p))\n",
    "        return filter(match, words)\n",
    "    "
   ]
  },
  {
   "cell_type": "markdown",
   "metadata": {},
   "source": [
    "S and T are strings composed of lowercase letters. In S, no letter occurs more than once.\n",
    "\n",
    "S was sorted in some custom order previously. We want to permute the characters of T so that they match the order that S was sorted. More specifically, if x occurs before y in S, then x should occur before y in the returned string.\n",
    "\n",
    "Return any permutation of T (as a string) that satisfies this property.\n",
    "\n",
    "Example :\n",
    "\n",
    "Input: \n",
    "\n",
    "S = \"cba\"\n",
    "\n",
    "T = \"abcd\"\n",
    "\n",
    "Output: \"cbad\"\n",
    "\n",
    "Explanation: \n",
    "\n",
    "\"a\", \"b\", \"c\" appear in S, so the order of \"a\", \"b\", \"c\" should be \"c\", \"b\", and \"a\". \n",
    "\n",
    "Since \"d\" does not appear in S, it can be at any position in T. \"dcba\", \"cdba\", \"cbda\" are also valid outputs.\n",
    " \n",
    "\n",
    "Note:\n",
    "\n",
    "S has length at most 26, and no character is repeated in S.\n",
    "\n",
    "T has length at most 200.\n",
    "\n",
    "S and T consist of lowercase letters only."
   ]
  },
  {
   "cell_type": "code",
   "execution_count": 8,
   "metadata": {},
   "outputs": [],
   "source": [
    " def customSortString(S, T):\n",
    "        lookup = {char: 0 for char in S}\n",
    "        result = ''\n",
    "    \n",
    "        for char in T:\n",
    "            if char not in lookup:\n",
    "                result += char\n",
    "            else:\n",
    "                lookup[char] += 1  \n",
    "                \n",
    "        for key in lookup:\n",
    "            result += key * lookup[key]\n",
    "            \n",
    "        return result"
   ]
  },
  {
   "cell_type": "code",
   "execution_count": 9,
   "metadata": {},
   "outputs": [
    {
     "data": {
      "text/plain": [
       "'dcba'"
      ]
     },
     "execution_count": 9,
     "metadata": {},
     "output_type": "execute_result"
    }
   ],
   "source": [
    "customSortString(\"cba\", \"cbad\")"
   ]
  },
  {
   "cell_type": "markdown",
   "metadata": {},
   "source": [
    "Given a string, your task is to count how many palindromic substrings in this string.\n",
    "\n",
    "The substrings with different start indexes or end indexes are counted as different substrings even they consist of same characters.\n",
    "\n",
    "Example 1:\n",
    "\n",
    "Input: \"abc\"\n",
    "\n",
    "Output: 3\n",
    "\n",
    "Explanation: Three palindromic strings: \"a\", \"b\", \"c\".\n",
    " \n",
    "\n",
    "Example 2:\n",
    "\n",
    "Input: \"aaa\"\n",
    "\n",
    "Output: 6\n",
    "\n",
    "Explanation: Six palindromic strings: \"a\", \"a\", \"a\", \"aa\", \"aa\", \"aaa\".\n",
    " \n",
    "\n",
    "Note:\n",
    "\n",
    "The input string length won't exceed 1000."
   ]
  },
  {
   "cell_type": "code",
   "execution_count": 26,
   "metadata": {},
   "outputs": [],
   "source": [
    "def countSubstrings(s):\n",
    "    if not s: \n",
    "        return 0\n",
    "    \n",
    "    count = 0\n",
    "    \n",
    "    for i in range(len(s)):\n",
    "        if ispalindrom(s[:i + 1]): \n",
    "            count += 1\n",
    "    \n",
    "    count += countSubstrings(s[1:])\n",
    "    \n",
    "    return count\n",
    "    \n",
    "def ispalindrom(s):\n",
    "    return s==s[::-1]"
   ]
  },
  {
   "cell_type": "code",
   "execution_count": 27,
   "metadata": {},
   "outputs": [
    {
     "data": {
      "text/plain": [
       "6"
      ]
     },
     "execution_count": 27,
     "metadata": {},
     "output_type": "execute_result"
    }
   ],
   "source": [
    "countSubstrings(\"aaa\")"
   ]
  },
  {
   "cell_type": "code",
   "execution_count": 40,
   "metadata": {},
   "outputs": [],
   "source": [
    "def firstUniqueChar(s):      \n",
    "    hashtab = {}\n",
    "        \n",
    "    for char in (s):\n",
    "        if char in hashtab:\n",
    "            hashtab[char] += 1\n",
    "        else:\n",
    "            hashtab[char] = 1\n",
    "    print(hashtab)\n",
    "    if all(val > 1 for val in hashtab.values()):\n",
    "        return -1\n",
    "\n",
    "    unique = []\n",
    "    for key, value in hashtab.items():\n",
    "        if value == 1:\n",
    "            unique.append(key)\n",
    "\n",
    "\n",
    "    for idx, char in enumerate(s):\n",
    "        if char == unique[0]:\n",
    "            return idx"
   ]
  },
  {
   "cell_type": "code",
   "execution_count": 41,
   "metadata": {},
   "outputs": [
    {
     "name": "stdout",
     "output_type": "stream",
     "text": [
      "{'l': 1, 'e': 3, 't': 1, 'c': 1, 'o': 1, 'd': 1}\n"
     ]
    },
    {
     "data": {
      "text/plain": [
       "0"
      ]
     },
     "execution_count": 41,
     "metadata": {},
     "output_type": "execute_result"
    }
   ],
   "source": [
    "firstUniqueChar(\"leetcode\")"
   ]
  },
  {
   "cell_type": "code",
   "execution_count": 60,
   "metadata": {},
   "outputs": [],
   "source": [
    "def frequencySort(s):\n",
    "    hashtab = {}\n",
    "    for char in (s):\n",
    "        if char in hashtab:\n",
    "            hashtab[char] += 1\n",
    "        else:\n",
    "            hashtab[char] =1\n",
    "    char_freq = sorted([value, key] for key, value in hashtab.items())\n",
    "   \n",
    "    output_str = ''\n",
    "    for lst in reversed(char_freq):\n",
    "    \n",
    "        output_str += lst[0] * lst[1]\n",
    "    return output_str\n",
    "        "
   ]
  },
  {
   "cell_type": "code",
   "execution_count": 61,
   "metadata": {},
   "outputs": [
    {
     "data": {
      "text/plain": [
       "'eetr'"
      ]
     },
     "execution_count": 61,
     "metadata": {},
     "output_type": "execute_result"
    }
   ],
   "source": [
    "frequencySort(\"tree\")"
   ]
  },
  {
   "cell_type": "markdown",
   "metadata": {},
   "source": [
    "Approach #1: Greedy [Accepted]\n",
    "Intuition\n",
    "\n",
    "A palindrome consists of letters with equal partners, plus possibly a unique center (without a partner). The letter i from the left has its partner i from the right. For example in 'abcba', 'aa' and 'bb' are partners, and 'c' is a unique center.\n",
    "\n",
    "Imagine we built our palindrome. It consists of as many partnered letters as possible, plus a unique center if possible. This motivates a greedy approach.\n",
    "\n",
    "Algorithm\n",
    "\n",
    "For each letter, say it occurs v times. We know we have v // 2 * 2 letters that can be partnered for sure. For example, if we have 'aaaaa', then we could have 'aaaa' partnered, which is 5 // 2 * 2 = 4 letters partnered.\n",
    "\n",
    "At the end, if there was any v % 2 == 1, then that letter could have been a unique center. Otherwise, every letter was partnered. To perform this check, we will check for v % 2 == 1 and ans % 2 == 0, the latter meaning we haven't yet added a unique center to the answer.\n",
    "\n"
   ]
  },
  {
   "cell_type": "code",
   "execution_count": 80,
   "metadata": {},
   "outputs": [],
   "source": [
    "def longestPalindrome(s):\n",
    "    hashtab = {}; result = 0\n",
    "    for char in s:\n",
    "        if char in hashtab:\n",
    "            hashtab[char] += 1\n",
    "        else:\n",
    "            hashtab[char] = 1\n",
    "    \n",
    "    for key, value in hashtab.items():\n",
    "      \n",
    "        result += value // 2 * 2\n",
    "        \n",
    "        if result%2 == 0 and value%2 == 1:\n",
    "            result += 1\n",
    "    \n",
    "    return result"
   ]
  },
  {
   "cell_type": "code",
   "execution_count": 82,
   "metadata": {},
   "outputs": [
    {
     "data": {
      "text/plain": [
       "5"
      ]
     },
     "execution_count": 82,
     "metadata": {},
     "output_type": "execute_result"
    }
   ],
   "source": [
    "longestPalindrome(\"bananas\")"
   ]
  },
  {
   "cell_type": "code",
   "execution_count": 6,
   "metadata": {},
   "outputs": [
    {
     "data": {
      "text/plain": [
       "4"
      ]
     },
     "execution_count": 6,
     "metadata": {},
     "output_type": "execute_result"
    }
   ],
   "source": [
    "2+2"
   ]
  },
  {
   "cell_type": "markdown",
   "metadata": {},
   "source": [
    "https://leetcode.com/problems/longest-palindromic-subsequence/discuss/216717/Python-DP-solution-w-explanation\n",
    "\n",
    "from user jxw7410\n",
    "\n",
    "\n",
    "There is nothing unique about this solution since everyone and their moms knows this is a practical solution since the time complexity is O(n^2), but they don't really explain why it works, or what the bottom up table represents.\n",
    "\n",
    "What is really happening with DP solution is it follows a simple brute force approach, that it tries to find the longest palindrome substring w/ respect to the position of each character: For example: \"BBBAB\"\n",
    "We want to know the longest Palindrome from:\n",
    "\n",
    "BBBAB\n",
    "\n",
    "BBAB\n",
    "\n",
    "BAB\n",
    "\n",
    "AB\n",
    "\n",
    "B\n",
    "\n",
    "But notice, if you're viewing this backwards, B contains information that AB can use, and AB contains information that BAB can use, and indeed, true to the nature of DP, we can make use of information from previous calculations.\n",
    "\n",
    "The tricky part is representing this in a data structure for our memoization, and we'll go with an intial matrix to represent the example above:\n",
    "\n",
    "    __B B B A B\n",
    "    B 1\n",
    "    B 0 1\n",
    "    B 0 0 1\n",
    "    A 0 0 0 1\n",
    "    B 0 0 0 0 1\n",
    "\n",
    "So what the heck is happening here? Why ones and zeros? If you look at the table, it's quite simple, If we're looking at our first B, from BBBAB, we obviously only have 1 palindrome so far, and that is \"B\" BBAB, and likewise, if we're looking at the first B on BBAB, then we have 1 so far as \"B\" BAB, and the B before BBAB, is set to zero because technically, true to our idea, if we're looking at BBAB, we shouldn't have any info about the B before BBAB.\n",
    "\n",
    "From then on we simply build our table with the following logic, if the current row character matches the column character, then we take value from row+1 and column-1, and increment by 2. Why? Suppose we have BCCCB, if we're looking BCCCB vs CCCB, BCCCB has a length of 5 that is a paldinrome, while CCCB has 3 (CCC), so the difference is 2.\n",
    "\n",
    "Also if you think about it, from the table's standpoint, row+1 and column-1 would represent CCC, since the current column char is B, while the next row's starting chair is \"C\" CC.\n",
    "\n",
    "If it doesn't match, then we take the max between the left value, and the bottom value of our current position. Why? Consider this, if we have BBA, and BA, we know that BBA has a value of 2, while BA is 1, so if we're looking at another character, say BBA \"C\" from the point of view of \"B\" BAC, then we still have a value of 2, while \"B\" AC is still 1.\n",
    "\n",
    "So if you fill the table, you'll eventually get the following:\n",
    "\n",
    "    __B B B A B\n",
    "    B 1 2 3 3 4\n",
    "    B 0 1 2 2 3\n",
    "    B 0 0 1 1 3\n",
    "    A 0 0 0 1 1\n",
    "    B 0 0 0 0 1\n",
    "\n",
    "We are actually going to traverse the table diagonally since that's the only way to fill the table in a way that we can access information from the [row+1, column-1], [row+1, column], [row, column-1]"
   ]
  },
  {
   "cell_type": "code",
   "execution_count": 9,
   "metadata": {},
   "outputs": [],
   "source": [
    "def longestPalindromeSubstring(s):\n",
    "    str_len = len(s)\n",
    "    dp_matrix = [[0]*str_len for i in range(str_len)]\n",
    "    k = 0\n",
    "    print(dp_matrix)\n",
    "    while k < str_len:\n",
    "        for i in range(str_len - k):\n",
    "            j = i + k\n",
    "            if i == j:\n",
    "                dp_matrix[i][j] = 1\n",
    "            elif s[i] == s[j]:\n",
    "                dp_matrix[i][j] = dp_matrix[i+1][j-1] + 2\n",
    "            else:\n",
    "                dp_matrix[i][j] = max(dp_matrix[i][j-1], dp_matrix[i+1][j])\n",
    "        k +=1\n",
    "        \n",
    "    \n",
    "    return dp_matrix[0][str_len-1]"
   ]
  },
  {
   "cell_type": "code",
   "execution_count": 10,
   "metadata": {},
   "outputs": [
    {
     "name": "stdout",
     "output_type": "stream",
     "text": [
      "[[0, 0, 0, 0, 0, 0, 0], [0, 0, 0, 0, 0, 0, 0], [0, 0, 0, 0, 0, 0, 0], [0, 0, 0, 0, 0, 0, 0], [0, 0, 0, 0, 0, 0, 0], [0, 0, 0, 0, 0, 0, 0], [0, 0, 0, 0, 0, 0, 0]]\n"
     ]
    },
    {
     "data": {
      "text/plain": [
       "5"
      ]
     },
     "execution_count": 10,
     "metadata": {},
     "output_type": "execute_result"
    }
   ],
   "source": [
    "longestPalindromeSubstring(\"bananas\")"
   ]
  },
  {
   "cell_type": "markdown",
   "metadata": {},
   "source": [
    "Break A List Into N-Sized Chunks\n",
    "20 Dec 2017\n",
    "In this snippet we take a list and break it up into n-size chunks. This is a very common practice when dealing with APIs that have a maximum request size.\n",
    "\n",
    "Credit for this nifty function goes to Ned Batchelder who posted it on StackOverflow."
   ]
  },
  {
   "cell_type": "code",
   "execution_count": 11,
   "metadata": {},
   "outputs": [],
   "source": [
    "# Create a list of first names\n",
    "first_names = ['Steve', 'Jane', 'Sara', 'Mary','Jack','Bob', 'Bily', 'Boni', 'Chris','Sori', 'Will', 'Won','Li']"
   ]
  },
  {
   "cell_type": "code",
   "execution_count": 12,
   "metadata": {},
   "outputs": [],
   "source": [
    "# Create a function called \"chunks\" with two arguments, l and n:\n",
    "def chunks(l, n):\n",
    "    # For item i in a range that is a length of l,\n",
    "    for i in range(0, len(l), n):\n",
    "        # Create an index range for l of n items:\n",
    "        yield l[i:i+n]"
   ]
  },
  {
   "cell_type": "code",
   "execution_count": 22,
   "metadata": {},
   "outputs": [
    {
     "data": {
      "text/plain": [
       "[['Steve', 'Jane', 'Sara', 'Mary', 'Jack'],\n",
       " ['Bob', 'Bily', 'Boni', 'Chris', 'Sori'],\n",
       " ['Will', 'Won', 'Li']]"
      ]
     },
     "execution_count": 22,
     "metadata": {},
     "output_type": "execute_result"
    }
   ],
   "source": [
    "# Create a list that from the results of the function chunks:\n",
    "list(chunks(first_names, 5))"
   ]
  },
  {
   "cell_type": "code",
   "execution_count": 23,
   "metadata": {},
   "outputs": [],
   "source": [
    "def fib(n):\n",
    "    cache = {}\n",
    "    if n <= 1:\n",
    "        return n\n",
    "    elif n not in cache:\n",
    "        cache[n] = fib(n - 1) + fib(n - 2)\n",
    "    return cache[n]"
   ]
  },
  {
   "cell_type": "code",
   "execution_count": 24,
   "metadata": {},
   "outputs": [
    {
     "data": {
      "text/plain": [
       "55"
      ]
     },
     "execution_count": 24,
     "metadata": {},
     "output_type": "execute_result"
    }
   ],
   "source": [
    "fib(10)"
   ]
  },
  {
   "cell_type": "code",
   "execution_count": 25,
   "metadata": {},
   "outputs": [],
   "source": [
    "def fib(n):\n",
    "    \n",
    "    if n <= 1:\n",
    "        return  n\n",
    "    f_minus_2, f_minus_1 = 0, 1\n",
    "    \n",
    "    for i in range(1, n):\n",
    "        f = f_minus_2 + f_minus_1\n",
    "        f_minus_2, f_minus_1 = f_minus_1, f\n",
    "    return f_minus_1"
   ]
  },
  {
   "cell_type": "code",
   "execution_count": 26,
   "metadata": {},
   "outputs": [
    {
     "data": {
      "text/plain": [
       "55"
      ]
     },
     "execution_count": 26,
     "metadata": {},
     "output_type": "execute_result"
    }
   ],
   "source": [
    "fib(10)"
   ]
  },
  {
   "cell_type": "code",
   "execution_count": 36,
   "metadata": {},
   "outputs": [],
   "source": [
    "import itertools\n",
    "def find_max_subarray(A):\n",
    "    min_sum = max_sum = running_sum = 0\n",
    "    for i in (A):\n",
    "        running_sum += i\n",
    "        min_sum = min(min_sum, running_sum)\n",
    "        max_sum = max(max_sum, running_sum - min_sum)\n",
    "    return max_sum"
   ]
  },
  {
   "cell_type": "code",
   "execution_count": 37,
   "metadata": {},
   "outputs": [],
   "source": [
    "A = [904, 40, 523, 12, -335, -385, -124, 481, -31]"
   ]
  },
  {
   "cell_type": "code",
   "execution_count": 38,
   "metadata": {},
   "outputs": [
    {
     "data": {
      "text/plain": [
       "1479"
      ]
     },
     "execution_count": 38,
     "metadata": {},
     "output_type": "execute_result"
    }
   ],
   "source": [
    "find_max_subarray(A)"
   ]
  },
  {
   "cell_type": "code",
   "execution_count": 34,
   "metadata": {},
   "outputs": [
    {
     "data": {
      "text/plain": [
       "<itertools.accumulate at 0x15bc05838c8>"
      ]
     },
     "execution_count": 34,
     "metadata": {},
     "output_type": "execute_result"
    }
   ],
   "source": [
    "itertools.accumulate(A)"
   ]
  },
  {
   "cell_type": "code",
   "execution_count": 35,
   "metadata": {},
   "outputs": [
    {
     "name": "stdout",
     "output_type": "stream",
     "text": [
      "904\n",
      "944\n",
      "1467\n",
      "1479\n",
      "1144\n",
      "759\n",
      "635\n",
      "1116\n",
      "1085\n"
     ]
    }
   ],
   "source": [
    "for running_sum in itertools.accumulate(A):\n",
    "    print(running_sum)"
   ]
  },
  {
   "cell_type": "code",
   "execution_count": 39,
   "metadata": {},
   "outputs": [],
   "source": [
    "data = [2, 4, 5, 7, 8, 9, 12, 14, 17, 19, 22, 25, 27, 28, 28, 33, 37]\n",
    "target = 28"
   ]
  },
  {
   "cell_type": "code",
   "execution_count": 45,
   "metadata": {},
   "outputs": [],
   "source": [
    "def binarySearchIterative(input_array, target):\n",
    "    if len(input_array) == 1:\n",
    "        if target in input_array:\n",
    "            return True\n",
    "        else:\n",
    "            return False\n",
    "    if len(input_array) == 0:\n",
    "        return \"Input array is empty\"\n",
    "    \n",
    "    low = 0\n",
    "    high = len(input_array) - 1\n",
    "    while low <= high:\n",
    "        mid = (low+high) // 2\n",
    "        \n",
    "        if target == input_array[mid]:\n",
    "            return True\n",
    "        elif target < input_array[mid]:\n",
    "            high = mid - 1\n",
    "        else: # target > input_array[mid]\n",
    "            low = mid + 1\n",
    "    \n",
    "    return False"
   ]
  },
  {
   "cell_type": "code",
   "execution_count": 46,
   "metadata": {},
   "outputs": [
    {
     "data": {
      "text/plain": [
       "True"
      ]
     },
     "execution_count": 46,
     "metadata": {},
     "output_type": "execute_result"
    }
   ],
   "source": [
    "binarySearchIterative(data, target)"
   ]
  },
  {
   "cell_type": "code",
   "execution_count": 48,
   "metadata": {},
   "outputs": [],
   "source": [
    "def binarySearchRecursive(data, target, low, high):\n",
    "    if low > high:\n",
    "        return False\n",
    "    else:\n",
    "        mid = (low+high) // 2\n",
    "        if target == data[mid]:\n",
    "            return True\n",
    "        elif target < data[mid]:\n",
    "            return binarySearchRecursive(data, target, low, mid-1)\n",
    "        else:\n",
    "            return binarySearchRecursive(data, target, mid+1, high)"
   ]
  },
  {
   "cell_type": "code",
   "execution_count": 50,
   "metadata": {},
   "outputs": [
    {
     "data": {
      "text/plain": [
       "True"
      ]
     },
     "execution_count": 50,
     "metadata": {},
     "output_type": "execute_result"
    }
   ],
   "source": [
    "binarySearchRecursive(data, target, 0, len(data)-1)"
   ]
  },
  {
   "cell_type": "code",
   "execution_count": 51,
   "metadata": {},
   "outputs": [],
   "source": [
    "def findFixedPoint(input_array):\n",
    "    low = 0\n",
    "    high = len(input_array) -1\n",
    "    \n",
    "    while low <= high:\n",
    "        mid = (low+high) // 2\n",
    "        \n",
    "        if input_array[mid] > mid:\n",
    "            high = mid -1\n",
    "        \n",
    "        elif input_array[mid] < mid:\n",
    "            low = mid + 1\n",
    "        \n",
    "        else:\n",
    "            return input_array[mid]\n",
    "    \n",
    "    return None"
   ]
  },
  {
   "cell_type": "code",
   "execution_count": 55,
   "metadata": {},
   "outputs": [
    {
     "name": "stdout",
     "output_type": "stream",
     "text": [
      "None\n"
     ]
    }
   ],
   "source": [
    "print(findFixedPoint([-10, -5, 3, 4, 7, 9]))"
   ]
  },
  {
   "cell_type": "code",
   "execution_count": null,
   "metadata": {},
   "outputs": [],
   "source": []
  }
 ],
 "metadata": {
  "kernelspec": {
   "display_name": "Python 3",
   "language": "python",
   "name": "python3"
  },
  "language_info": {
   "codemirror_mode": {
    "name": "ipython",
    "version": 3
   },
   "file_extension": ".py",
   "mimetype": "text/x-python",
   "name": "python",
   "nbconvert_exporter": "python",
   "pygments_lexer": "ipython3",
   "version": "3.6.7"
  }
 },
 "nbformat": 4,
 "nbformat_minor": 2
}
