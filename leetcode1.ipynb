{
 "cells": [
  {
   "cell_type": "markdown",
   "metadata": {},
   "source": [
    "### Two Sum\n",
    "Given an array of integers, return indices of the two numbers such that they add up to a specific target.\n",
    "\n",
    "You may assume that each input would have exactly one solution, and you may not use the same element twice.\n",
    "\n",
    "Example:\n",
    "\n",
    "Given nums = [2, 7, 11, 15], target = 9,\n",
    "\n",
    "Because nums[0] + nums[1] = 2 + 7 = 9,\n",
    "return [0, 1]."
   ]
  },
  {
   "cell_type": "code",
   "execution_count": 3,
   "metadata": {},
   "outputs": [
    {
     "data": {
      "text/plain": [
       "'oh oh oh ahahahah'"
      ]
     },
     "execution_count": 3,
     "metadata": {},
     "output_type": "execute_result"
    }
   ],
   "source": [
    "my_string = 'hahahaha ho ho ho'\n",
    "rev_my_sting = my_string[::-1]\n",
    "rev_my_sting"
   ]
  },
  {
   "cell_type": "code",
   "execution_count": 352,
   "metadata": {},
   "outputs": [],
   "source": [
    "class Solution:\n",
    "    def twoSum(self, nums, target):\n",
    "        lookup = {}\n",
    "        for cnt, num in enumerate(nums):\n",
    "            if target - num in lookup:\n",
    "                return [lookup[target - num], cnt]\n",
    "            lookup[num] = cnt"
   ]
  },
  {
   "cell_type": "code",
   "execution_count": 353,
   "metadata": {},
   "outputs": [],
   "source": [
    "given_nums = [2, 7, 11, 15]\n",
    "tar = 9"
   ]
  },
  {
   "cell_type": "code",
   "execution_count": 354,
   "metadata": {},
   "outputs": [
    {
     "name": "stdout",
     "output_type": "stream",
     "text": [
      "Output: [0, 1]\n"
     ]
    }
   ],
   "source": [
    "sol = Solution()\n",
    "print('Output: {0}'.format(sol.twoSum(given_nums, tar)))"
   ]
  },
  {
   "cell_type": "markdown",
   "metadata": {},
   "source": [
    "### Two Sum II - Input array is sorted\n",
    "\n",
    "Given an array of integers that is already sorted in ascending order, find two numbers such that they add up to a specific target number.\n",
    "\n",
    "The function twoSum should return indices of the two numbers such that they add up to the target, where index1 must be less than index2.\n",
    "\n",
    "Note:\n",
    "\n",
    "Your returned answers (both index1 and index2) are not zero-based.\n",
    "You may assume that each input would have exactly one solution and you may not use the same element twice.\n",
    "\n",
    "\n",
    "Example:\n",
    "\n",
    "Input: numbers = [2,7,11,15], target = 9\n",
    "\n",
    "Output: [1,2]\n",
    "\n",
    "Explanation: The sum of 2 and 7 is 9. Therefore index1 = 1, index2 = 2."
   ]
  },
  {
   "cell_type": "code",
   "execution_count": 349,
   "metadata": {},
   "outputs": [],
   "source": [
    "class Solution:\n",
    "    def twoSum2(self, nums, target):\n",
    "        lookup = {}\n",
    "        for cnt, num in enumerate(nums):\n",
    "            if target - num in lookup and lookup[target - num] < cnt:\n",
    "                return [(lookup[target - num] + 1), (cnt + 1)]\n",
    "            lookup[num] = cnt            "
   ]
  },
  {
   "cell_type": "code",
   "execution_count": 350,
   "metadata": {},
   "outputs": [],
   "source": [
    "given_nums = [2, 7, 11, 15]\n",
    "tar = 9"
   ]
  },
  {
   "cell_type": "code",
   "execution_count": 351,
   "metadata": {},
   "outputs": [
    {
     "name": "stdout",
     "output_type": "stream",
     "text": [
      "Output: [1, 2]\n"
     ]
    }
   ],
   "source": [
    "sol = Solution()\n",
    "print('Output: {0}'.format(sol.twoSum2(given_nums, tar)))"
   ]
  },
  {
   "cell_type": "markdown",
   "metadata": {},
   "source": [
    "###  Power of Two\n",
    "Given an integer, write a function to determine if it is a power of two.\n",
    "\n",
    "Example 1:\n",
    "\n",
    "Input: 1\n",
    "\n",
    "Output: true \n",
    "\n",
    "Explanation: $2^0 = 1$\n",
    "\n",
    "\n",
    "Example 2:\n",
    "\n",
    "Input: 16\n",
    "\n",
    "Output: true\n",
    "\n",
    "Explanation: $2^4 = 16$\n",
    "\n",
    "Example 3:\n",
    "\n",
    "Input: 218\n",
    "\n",
    "Output: false"
   ]
  },
  {
   "cell_type": "code",
   "execution_count": 7,
   "metadata": {},
   "outputs": [],
   "source": [
    "class Solution:\n",
    "    def isPowerOfTwo(self, n):\n",
    "        if n != 0 and ((n & (n - 1)) == 0):\n",
    "            return True\n",
    "        else:\n",
    "            return False"
   ]
  },
  {
   "cell_type": "code",
   "execution_count": 8,
   "metadata": {},
   "outputs": [],
   "source": [
    "sol = Solution()"
   ]
  },
  {
   "cell_type": "code",
   "execution_count": 9,
   "metadata": {},
   "outputs": [
    {
     "name": "stdout",
     "output_type": "stream",
     "text": [
      "True\n"
     ]
    }
   ],
   "source": [
    "print(sol.isPowerOfTwo(1))"
   ]
  },
  {
   "cell_type": "code",
   "execution_count": 10,
   "metadata": {},
   "outputs": [
    {
     "name": "stdout",
     "output_type": "stream",
     "text": [
      "True\n"
     ]
    }
   ],
   "source": [
    "print(sol.isPowerOfTwo(2))"
   ]
  },
  {
   "cell_type": "code",
   "execution_count": 11,
   "metadata": {},
   "outputs": [
    {
     "name": "stdout",
     "output_type": "stream",
     "text": [
      "True\n"
     ]
    }
   ],
   "source": [
    "print(sol.isPowerOfTwo(16))"
   ]
  },
  {
   "cell_type": "code",
   "execution_count": 14,
   "metadata": {},
   "outputs": [
    {
     "name": "stdout",
     "output_type": "stream",
     "text": [
      "False\n"
     ]
    }
   ],
   "source": [
    "print(sol.isPowerOfTwo(218))"
   ]
  },
  {
   "cell_type": "markdown",
   "metadata": {},
   "source": [
    "### Count Primes\n",
    "\n",
    "Count the number of prime numbers less than a non-negative number, n.\n",
    "\n",
    "Example:\n",
    "\n",
    "Input: 10\n",
    "\n",
    "Output: 4\n",
    "\n",
    "Explanation: There are 4 prime numbers less than 10, they are 2, 3, 5, 7."
   ]
  },
  {
   "cell_type": "code",
   "execution_count": 15,
   "metadata": {},
   "outputs": [],
   "source": [
    "class Solution:\n",
    "    def countPrimes(self, n):\n",
    "        primes = []        \n",
    "        for i in range(2, n):\n",
    "            if self.primeCheck(i, primes):\n",
    "                primes.append(i)\n",
    "\n",
    "        return len(primes)\n",
    "\n",
    "    def primeCheck(self, n, primelist):\n",
    "\n",
    "        if n < 2:\n",
    "            return False\n",
    "\n",
    "        if n % 2 == 0: \n",
    "            return n == 2\n",
    "\n",
    "        for prime in primelist:\n",
    "\n",
    "            if prime * prime > n:\n",
    "                return True\n",
    "\n",
    "            if n % prime == 0:\n",
    "                return False"
   ]
  },
  {
   "cell_type": "code",
   "execution_count": 16,
   "metadata": {},
   "outputs": [],
   "source": [
    "sol = Solution()"
   ]
  },
  {
   "cell_type": "code",
   "execution_count": 17,
   "metadata": {},
   "outputs": [
    {
     "name": "stdout",
     "output_type": "stream",
     "text": [
      "4\n"
     ]
    }
   ],
   "source": [
    "print(sol.countPrimes(10))"
   ]
  },
  {
   "cell_type": "code",
   "execution_count": 18,
   "metadata": {},
   "outputs": [
    {
     "name": "stdout",
     "output_type": "stream",
     "text": [
      "664579\n"
     ]
    }
   ],
   "source": [
    "print(sol.countPrimes(10000000))"
   ]
  },
  {
   "cell_type": "markdown",
   "metadata": {},
   "source": [
    "### Ugly Number\n",
    "Write a program to check whether a given number is an ugly number. Ugly numbers are positive numbers whose prime factors only include 2, 3, 5.\n",
    "\n",
    "Example 1:\n",
    "\n",
    "Input: 6\n",
    "\n",
    "Output: true\n",
    "\n",
    "Explanation: 6 = 2 × 3\n",
    "\n",
    "Example 2:\n",
    "\n",
    "Input: 8\n",
    "\n",
    "Output: true\n",
    "\n",
    "Explanation: 8 = 2 × 2 × 2\n",
    "\n",
    "Example 3:\n",
    "\n",
    "Input: 14\n",
    "\n",
    "Output: false \n",
    "\n",
    "Explanation: 14 is not ugly since it includes another prime factor 7.\n",
    "\n",
    "Note:\n",
    "\n",
    "1. 1 is typically treated as an ugly number.\n",
    "2. Input is within the 32-bit signed integer range: [$−2^{31},  2^{31} − 1$]."
   ]
  },
  {
   "cell_type": "code",
   "execution_count": 19,
   "metadata": {},
   "outputs": [],
   "source": [
    "class Solution:\n",
    "    def uglyNumber(self, num):\n",
    "        if num <= 0:\n",
    "            return False \n",
    "        while True:\n",
    "            if num%2 == 0:\n",
    "                num = num/2\n",
    "            elif num%3 == 0:\n",
    "                num = num/3\n",
    "            elif num%5 == 0:\n",
    "                num = num/5\n",
    "            else:\n",
    "                return num == 1\n",
    "            "
   ]
  },
  {
   "cell_type": "code",
   "execution_count": 20,
   "metadata": {},
   "outputs": [],
   "source": [
    "sol = Solution()"
   ]
  },
  {
   "cell_type": "code",
   "execution_count": 21,
   "metadata": {},
   "outputs": [
    {
     "name": "stdout",
     "output_type": "stream",
     "text": [
      "True\n"
     ]
    }
   ],
   "source": [
    "print(sol.uglyNumber(6))"
   ]
  },
  {
   "cell_type": "code",
   "execution_count": 22,
   "metadata": {},
   "outputs": [
    {
     "name": "stdout",
     "output_type": "stream",
     "text": [
      "True\n"
     ]
    }
   ],
   "source": [
    "print(sol.uglyNumber(8))"
   ]
  },
  {
   "cell_type": "code",
   "execution_count": 23,
   "metadata": {},
   "outputs": [
    {
     "name": "stdout",
     "output_type": "stream",
     "text": [
      "False\n"
     ]
    }
   ],
   "source": [
    "print(sol.uglyNumber(14))"
   ]
  },
  {
   "cell_type": "markdown",
   "metadata": {},
   "source": [
    "### Reverse integer\n",
    "Given a 32-bit signed integer, reverse digits of an integer.\n",
    "\n",
    "Example 1:\n",
    "\n",
    "Input: 123\n",
    "\n",
    "Output: 321\n",
    "\n",
    "Example 2:\n",
    "\n",
    "Input: -123\n",
    "\n",
    "Output: -321\n",
    "\n",
    "\n",
    "Example 3:\n",
    "\n",
    "Input: 120\n",
    "\n",
    "Output: 21\n",
    "\n",
    "Note:\n",
    "Assume we are dealing with an environment which could only store integers within the 32-bit signed integer range: $−2^{31},  2^{31} − 1$. For the purpose of this problem, assume that your function returns 0 when the reversed integer overflows."
   ]
  },
  {
   "cell_type": "code",
   "execution_count": 24,
   "metadata": {},
   "outputs": [],
   "source": [
    "class Solution:\n",
    "    def reverse(self, x):\n",
    "        maxint = 2147483649\n",
    "        minint = -2147483648\n",
    "        ans = int(str(abs(x))[::-1])\n",
    "        return ans * (abs(x)//x) if minint < ans < maxint and ans else 0"
   ]
  },
  {
   "cell_type": "code",
   "execution_count": 25,
   "metadata": {},
   "outputs": [],
   "source": [
    "sol = Solution()"
   ]
  },
  {
   "cell_type": "code",
   "execution_count": 26,
   "metadata": {},
   "outputs": [
    {
     "data": {
      "text/plain": [
       "321"
      ]
     },
     "execution_count": 26,
     "metadata": {},
     "output_type": "execute_result"
    }
   ],
   "source": [
    "sol.reverse(123)"
   ]
  },
  {
   "cell_type": "code",
   "execution_count": 27,
   "metadata": {},
   "outputs": [
    {
     "data": {
      "text/plain": [
       "-123"
      ]
     },
     "execution_count": 27,
     "metadata": {},
     "output_type": "execute_result"
    }
   ],
   "source": [
    "sol.reverse(-321)"
   ]
  },
  {
   "cell_type": "code",
   "execution_count": 28,
   "metadata": {},
   "outputs": [
    {
     "data": {
      "text/plain": [
       "21"
      ]
     },
     "execution_count": 28,
     "metadata": {},
     "output_type": "execute_result"
    }
   ],
   "source": [
    "sol.reverse(120)"
   ]
  },
  {
   "cell_type": "markdown",
   "metadata": {},
   "source": [
    "### Palindrome Number\n",
    "\n",
    "Determine whether an integer is a palindrome. An integer is a palindrome when it reads the same backward as forward.\n",
    "\n",
    "Example 1:\n",
    "\n",
    "Input: 121\n",
    "\n",
    "Output: true\n",
    "\n",
    "Example 2:\n",
    "\n",
    "Input: -121\n",
    "\n",
    "Output: false\n",
    "\n",
    "Explanation: From left to right, it reads -121. From right to left, it becomes 121-. Therefore it is not a palindrome.\n",
    "\n",
    "Example 3:\n",
    "\n",
    "Input: 10\n",
    "\n",
    "Output: false\n",
    "\n",
    "Explanation: Reads 01 from right to left. Therefore it is not a palindrome.\n",
    "\n",
    "Follow up:\n",
    "\n",
    "Coud you solve it without converting the integer to a string?"
   ]
  },
  {
   "cell_type": "code",
   "execution_count": 29,
   "metadata": {},
   "outputs": [],
   "source": [
    "#string solution\n",
    "class Solution:\n",
    "    def palindrome(self, x):\n",
    "        return str(x) == str(x)[::-1]"
   ]
  },
  {
   "cell_type": "code",
   "execution_count": 30,
   "metadata": {},
   "outputs": [],
   "source": [
    "sol = Solution()"
   ]
  },
  {
   "cell_type": "code",
   "execution_count": 31,
   "metadata": {},
   "outputs": [
    {
     "data": {
      "text/plain": [
       "True"
      ]
     },
     "execution_count": 31,
     "metadata": {},
     "output_type": "execute_result"
    }
   ],
   "source": [
    "sol.palindrome(121)"
   ]
  },
  {
   "cell_type": "code",
   "execution_count": 32,
   "metadata": {},
   "outputs": [
    {
     "data": {
      "text/plain": [
       "False"
      ]
     },
     "execution_count": 32,
     "metadata": {},
     "output_type": "execute_result"
    }
   ],
   "source": [
    "sol.palindrome(-121)"
   ]
  },
  {
   "cell_type": "code",
   "execution_count": 33,
   "metadata": {},
   "outputs": [
    {
     "data": {
      "text/plain": [
       "False"
      ]
     },
     "execution_count": 33,
     "metadata": {},
     "output_type": "execute_result"
    }
   ],
   "source": [
    "sol.palindrome(10)"
   ]
  },
  {
   "cell_type": "code",
   "execution_count": 383,
   "metadata": {},
   "outputs": [],
   "source": [
    "class FizzBuzz(object):\n",
    "   \n",
    "    def __init__(self, num):        \n",
    "        self.num = num\n",
    "        \n",
    "    \n",
    "    def printer(self):\n",
    "        for i in range(1, self.num + 1):\n",
    "            if i%3 == 0 and i%5 == 0:\n",
    "                print(\"FizzBuzz\")\n",
    "            elif i%3 == 0:\n",
    "                print(\"Fizz\")\n",
    "            elif i%5 == 0:\n",
    "                print(\"Buzz\")\n",
    "            else:\n",
    "                print(i)\n",
    "fb = FizzBuzz(30)"
   ]
  },
  {
   "cell_type": "code",
   "execution_count": 384,
   "metadata": {},
   "outputs": [
    {
     "name": "stdout",
     "output_type": "stream",
     "text": [
      "1\n",
      "2\n",
      "Fizz\n",
      "4\n",
      "Buzz\n",
      "Fizz\n",
      "7\n",
      "8\n",
      "Fizz\n",
      "Buzz\n",
      "11\n",
      "Fizz\n",
      "13\n",
      "14\n",
      "FizzBuzz\n",
      "16\n",
      "17\n",
      "Fizz\n",
      "19\n",
      "Buzz\n",
      "Fizz\n",
      "22\n",
      "23\n",
      "Fizz\n",
      "Buzz\n",
      "26\n",
      "Fizz\n",
      "28\n",
      "29\n",
      "FizzBuzz\n"
     ]
    }
   ],
   "source": [
    "fb.printer()"
   ]
  },
  {
   "cell_type": "code",
   "execution_count": 34,
   "metadata": {},
   "outputs": [],
   "source": [
    "# no string conversion\n",
    "class Solution:\n",
    "    \n",
    "    def reverse(self, x):\n",
    "        rev = 0\n",
    "        while x > 0:\n",
    "            end = x%10\n",
    "            rev = rev *10 + end\n",
    "            x = x//10\n",
    "        return rev\n",
    "    \n",
    "    def palindrome(self, x):\n",
    "        return Solution.reverse(self, x) == x"
   ]
  },
  {
   "cell_type": "code",
   "execution_count": 35,
   "metadata": {},
   "outputs": [],
   "source": [
    "sol = Solution()"
   ]
  },
  {
   "cell_type": "code",
   "execution_count": 36,
   "metadata": {},
   "outputs": [
    {
     "data": {
      "text/plain": [
       "True"
      ]
     },
     "execution_count": 36,
     "metadata": {},
     "output_type": "execute_result"
    }
   ],
   "source": [
    "sol.palindrome(121)"
   ]
  },
  {
   "cell_type": "code",
   "execution_count": 368,
   "metadata": {},
   "outputs": [
    {
     "data": {
      "text/plain": [
       "1"
      ]
     },
     "execution_count": 368,
     "metadata": {},
     "output_type": "execute_result"
    }
   ],
   "source": [
    "end = 121%10\n",
    "end\n",
    "rev "
   ]
  },
  {
   "cell_type": "code",
   "execution_count": 37,
   "metadata": {},
   "outputs": [
    {
     "data": {
      "text/plain": [
       "False"
      ]
     },
     "execution_count": 37,
     "metadata": {},
     "output_type": "execute_result"
    }
   ],
   "source": [
    "sol.palindrome(-121)"
   ]
  },
  {
   "cell_type": "code",
   "execution_count": 38,
   "metadata": {},
   "outputs": [
    {
     "data": {
      "text/plain": [
       "False"
      ]
     },
     "execution_count": 38,
     "metadata": {},
     "output_type": "execute_result"
    }
   ],
   "source": [
    "sol.palindrome(10)"
   ]
  },
  {
   "cell_type": "markdown",
   "metadata": {},
   "source": [
    "### Remove Duplicates from Sorted Array\n",
    "Given a sorted array nums, remove the duplicates in-place such that each element appear only once and return the new length.\n",
    "\n",
    "Do not allocate extra space for another array, you must do this by modifying the input array in-place with O(1) extra memory.\n",
    "\n",
    "Example 1:\n",
    "\n",
    "Given nums = [1,1,2],\n",
    "\n",
    "Your function should return length = 2, with the first two elements of nums being 1 and 2 respectively.\n",
    "\n",
    "It doesn't matter what you leave beyond the returned length.\n",
    "\n",
    "Example 2:\n",
    "\n",
    "Given nums = [0,0,1,1,1,2,2,3,3,4],\n",
    "\n",
    "Your function should return length = 5, with the first five elements of nums being modified to 0, 1, 2, 3, and 4 respectively.\n",
    "\n",
    "It doesn't matter what values are set beyond the returned length.\n",
    "\n",
    "Clarification:\n",
    "\n",
    "Confused why the returned value is an integer but your answer is an array?\n",
    "\n",
    "Note that the input array is passed in by reference, which means modification to the input array will be known to the caller as well.\n",
    "\n",
    "Internally you can think of this:\n",
    "\n",
    "// nums is passed in by reference. (i.e., without making a copy)\n",
    "int len = removeDuplicates(nums);\n",
    "\n",
    "// any modification to nums in your function would be known by the caller.\n",
    "// using the length returned by your function, it prints the first len elements.\n",
    "for (int i = 0; i < len; i++) {\n",
    "    print(nums[i]);\n",
    "}\n"
   ]
  },
  {
   "cell_type": "code",
   "execution_count": 39,
   "metadata": {},
   "outputs": [],
   "source": [
    "class Solution:\n",
    "    def removeDuplicates(self, nums):\n",
    "        for i in range(len(nums)-1, 0, -1):\n",
    "            if nums[i] == nums[i - 1]:\n",
    "                del nums[i]\n",
    "        return len(nums)"
   ]
  },
  {
   "cell_type": "code",
   "execution_count": 40,
   "metadata": {},
   "outputs": [],
   "source": [
    "sol = Solution()\n",
    "given_nums = [1, 1, 2]"
   ]
  },
  {
   "cell_type": "code",
   "execution_count": 41,
   "metadata": {},
   "outputs": [
    {
     "data": {
      "text/plain": [
       "2"
      ]
     },
     "execution_count": 41,
     "metadata": {},
     "output_type": "execute_result"
    }
   ],
   "source": [
    "sol.removeDuplicates(given_nums)"
   ]
  },
  {
   "cell_type": "code",
   "execution_count": 42,
   "metadata": {},
   "outputs": [],
   "source": [
    "given_nums = [0,0,1,1,1,2,2,3,3,4]"
   ]
  },
  {
   "cell_type": "code",
   "execution_count": 43,
   "metadata": {},
   "outputs": [
    {
     "data": {
      "text/plain": [
       "5"
      ]
     },
     "execution_count": 43,
     "metadata": {},
     "output_type": "execute_result"
    }
   ],
   "source": [
    "sol.removeDuplicates(given_nums)"
   ]
  },
  {
   "cell_type": "code",
   "execution_count": 13,
   "metadata": {},
   "outputs": [],
   "source": [
    "def removeDups(nums):\n",
    "    for i in range(len(nums) - 1 , 0, -1):\n",
    "        if nums[i] == nums[i - 1]:\n",
    "            del nums[i]\n",
    "    return len(nums)"
   ]
  },
  {
   "cell_type": "code",
   "execution_count": 14,
   "metadata": {},
   "outputs": [],
   "source": [
    "given_nums = [0,0,1,1,1,2,2,3,3,4]"
   ]
  },
  {
   "cell_type": "code",
   "execution_count": 15,
   "metadata": {},
   "outputs": [
    {
     "data": {
      "text/plain": [
       "5"
      ]
     },
     "execution_count": 15,
     "metadata": {},
     "output_type": "execute_result"
    }
   ],
   "source": [
    "removeDups(given_nums)"
   ]
  },
  {
   "cell_type": "markdown",
   "metadata": {},
   "source": [
    "### Reverse Words in a String\n",
    "\n",
    "Given an input string, reverse the string word by word.\n",
    "\n",
    " \n",
    "\n",
    "Example 1:\n",
    "\n",
    "Input: \"the sky is blue\"\n",
    "\n",
    "Output: \"blue is sky the\"\n",
    "\n",
    "Example 2:\n",
    "\n",
    "Input: \"  hello world!  \"\n",
    "\n",
    "Output: \"world! hello\"\n",
    "\n",
    "Explanation: Your reversed string should not contain leading or trailing spaces.\n",
    "\n",
    "Example 3:\n",
    "\n",
    "\n",
    "Input: \"a good   example\"\n",
    "\n",
    "Output: \"example good a\"\n",
    "\n",
    "Explanation: You need to reduce multiple spaces between two words to a single space in the reversed string.\n",
    " \n",
    "\n",
    "Note:\n",
    "\n",
    "A word is defined as a sequence of non-space characters.\n",
    "Input string may contain leading or trailing spaces. However, your reversed string should not contain leading or trailing spaces.\n",
    "You need to reduce multiple spaces between two words to a single space in the reversed string."
   ]
  },
  {
   "cell_type": "code",
   "execution_count": 44,
   "metadata": {},
   "outputs": [],
   "source": [
    "class Solution:\n",
    "    def reverseWords(self, s):\n",
    "        rs = ''\n",
    "        for word in reversed(s.split()):\n",
    "            rs += word + ' '\n",
    "        rs = rs.rstrip()\n",
    "        return rs"
   ]
  },
  {
   "cell_type": "code",
   "execution_count": 45,
   "metadata": {},
   "outputs": [],
   "source": [
    "sol = Solution()"
   ]
  },
  {
   "cell_type": "code",
   "execution_count": 46,
   "metadata": {},
   "outputs": [
    {
     "data": {
      "text/plain": [
       "'blue is sky the'"
      ]
     },
     "execution_count": 46,
     "metadata": {},
     "output_type": "execute_result"
    }
   ],
   "source": [
    "s = \"the sky is blue\"\n",
    "sol.reverseWords(s)"
   ]
  },
  {
   "cell_type": "code",
   "execution_count": 47,
   "metadata": {},
   "outputs": [
    {
     "data": {
      "text/plain": [
       "'world! hello'"
      ]
     },
     "execution_count": 47,
     "metadata": {},
     "output_type": "execute_result"
    }
   ],
   "source": [
    "s = \"  hello world!  \"\n",
    "sol.reverseWords(s)"
   ]
  },
  {
   "cell_type": "code",
   "execution_count": 48,
   "metadata": {},
   "outputs": [
    {
     "data": {
      "text/plain": [
       "'example good a'"
      ]
     },
     "execution_count": 48,
     "metadata": {},
     "output_type": "execute_result"
    }
   ],
   "source": [
    "s = \"a good   example\"\n",
    "sol.reverseWords(s)"
   ]
  },
  {
   "cell_type": "code",
   "execution_count": 365,
   "metadata": {},
   "outputs": [],
   "source": [
    "class Solution(object):\n",
    "    def __init__(self):\n",
    "        self = self\n",
    "    \n",
    "    def reverseWords(self, strs):\n",
    "        rs = ''\n",
    "        for word in reversed(strs.split()):\n",
    "            rs += word + ' '\n",
    "        return rs.rstrip()\n",
    "            "
   ]
  },
  {
   "cell_type": "code",
   "execution_count": 367,
   "metadata": {},
   "outputs": [
    {
     "data": {
      "text/plain": [
       "'example good a'"
      ]
     },
     "execution_count": 367,
     "metadata": {},
     "output_type": "execute_result"
    }
   ],
   "source": [
    "sol = Solution()\n",
    "s = \"a good   example\"\n",
    "sol.reverseWords(s)"
   ]
  },
  {
   "cell_type": "markdown",
   "metadata": {},
   "source": [
    "The Fibonacci numbers, commonly denoted F(n) form a sequence, called the Fibonacci sequence, such that each number is the sum of the two preceding ones, starting from 0 and 1. That is,\n",
    "\n",
    "F(0) = 0,   F(1) = 1\n",
    "\n",
    "F(N) = F(N - 1) + F(N - 2), for N > 1.\n",
    "\n",
    "Given N, calculate F(N).\n",
    "\n",
    " \n",
    "\n",
    "Example 1:\n",
    "\n",
    "Input: 2\n",
    "\n",
    "Output: 1\n",
    "\n",
    "Explanation: F(2) = F(1) + F(0) = 1 + 0 = 1.\n",
    "\n",
    "Example 2:\n",
    "\n",
    "Input: 3\n",
    "\n",
    "Output: 2\n",
    "\n",
    "Explanation: F(3) = F(2) + F(1) = 1 + 1 = 2.\n",
    "\n",
    "Example 3:\n",
    "\n",
    "Input: 4\n",
    "\n",
    "Output: 3\n",
    "\n",
    "Explanation: F(4) = F(3) + F(2) = 2 + 1 = 3.\n",
    " \n",
    "\n",
    "Note:\n",
    "\n",
    "0 ≤ N ≤ 30."
   ]
  },
  {
   "cell_type": "code",
   "execution_count": 336,
   "metadata": {},
   "outputs": [],
   "source": [
    "# Boring solution\n",
    "class Solution:\n",
    "    def __init__(self):\n",
    "        self = self\n",
    "        \n",
    "    def fib(self, n):\n",
    "        a, b = 0, 1\n",
    "        for i in range(1, n + 1):\n",
    "            a, b = b, a + b\n",
    "        return a\n",
    "    "
   ]
  },
  {
   "cell_type": "code",
   "execution_count": 337,
   "metadata": {},
   "outputs": [
    {
     "data": {
      "text/plain": [
       "1"
      ]
     },
     "execution_count": 337,
     "metadata": {},
     "output_type": "execute_result"
    }
   ],
   "source": [
    "sol = Solution()\n",
    "sol.fib(2)"
   ]
  },
  {
   "cell_type": "code",
   "execution_count": 338,
   "metadata": {},
   "outputs": [
    {
     "data": {
      "text/plain": [
       "2"
      ]
     },
     "execution_count": 338,
     "metadata": {},
     "output_type": "execute_result"
    }
   ],
   "source": [
    "sol.fib(3)"
   ]
  },
  {
   "cell_type": "code",
   "execution_count": 339,
   "metadata": {},
   "outputs": [
    {
     "data": {
      "text/plain": [
       "3"
      ]
     },
     "execution_count": 339,
     "metadata": {},
     "output_type": "execute_result"
    }
   ],
   "source": [
    "sol.fib(4)"
   ]
  },
  {
   "cell_type": "code",
   "execution_count": 329,
   "metadata": {},
   "outputs": [],
   "source": [
    "#Dynamic programming solution\n",
    "class Solution:\n",
    "    def __init__(self):\n",
    "        self = self\n",
    "        \n",
    "    def fib(self, num):\n",
    "        num = num - 1\n",
    "\n",
    "        lst = []; f = 1\n",
    "        lst.append(f); lst.append(f) \n",
    "        while num >= f:\n",
    "            f = lst[-1] + lst[-2]  \n",
    "            lst.append(f)\n",
    "        else:\n",
    "            lst.remove(lst[-1]) \n",
    "        \n",
    "        return lst[-1]"
   ]
  },
  {
   "cell_type": "code",
   "execution_count": 330,
   "metadata": {},
   "outputs": [],
   "source": [
    "sol = Solution()"
   ]
  },
  {
   "cell_type": "code",
   "execution_count": 331,
   "metadata": {},
   "outputs": [
    {
     "data": {
      "text/plain": [
       "1"
      ]
     },
     "execution_count": 331,
     "metadata": {},
     "output_type": "execute_result"
    }
   ],
   "source": [
    "sol.fib(2)"
   ]
  },
  {
   "cell_type": "code",
   "execution_count": 332,
   "metadata": {},
   "outputs": [
    {
     "data": {
      "text/plain": [
       "2"
      ]
     },
     "execution_count": 332,
     "metadata": {},
     "output_type": "execute_result"
    }
   ],
   "source": [
    "sol.fib(3)"
   ]
  },
  {
   "cell_type": "code",
   "execution_count": 335,
   "metadata": {},
   "outputs": [
    {
     "data": {
      "text/plain": [
       "3"
      ]
     },
     "execution_count": 335,
     "metadata": {},
     "output_type": "execute_result"
    }
   ],
   "source": [
    "sol.fib(4)"
   ]
  },
  {
   "cell_type": "markdown",
   "metadata": {},
   "source": [
    "Given an array of strings, group anagrams together.\n",
    "\n",
    "Example:\n",
    "\n",
    "Input: [\"eat\", \"tea\", \"tan\", \"ate\", \"nat\", \"bat\"],\n",
    "\n",
    "Output:\n",
    "\n",
    "[\n",
    "  [\"ate\",\"eat\",\"tea\"],\n",
    "  [\"nat\",\"tan\"],\n",
    "  [\"bat\"]\n",
    "]\n",
    "\n",
    "Note:\n",
    "\n",
    "All inputs will be in lowercase.\n",
    "The order of your output does not matter."
   ]
  },
  {
   "cell_type": "code",
   "execution_count": 340,
   "metadata": {},
   "outputs": [],
   "source": [
    "class Solution(object):\n",
    "    def __init__(self, strs):\n",
    "        self.strs = strs\n",
    "               \n",
    "    def groupAnagrams(self):\n",
    "        ana_dict = {}\n",
    "        for word in self.strs:\n",
    "            alpha_word = ''.join(sorted(word))\n",
    "            if alpha_word in ana_dict.keys():\n",
    "                ana_dict[alpha_word].append(word)\n",
    "            else:\n",
    "                ana_dict[alpha_word] = [word]                \n",
    "        return [value for value in ana_dict.values()]"
   ]
  },
  {
   "cell_type": "code",
   "execution_count": 341,
   "metadata": {},
   "outputs": [],
   "source": [
    "words =  [\"eat\", \"tea\", \"tan\", \"ate\", \"nat\", \"bat\"]\n",
    "sol = Solution(words)"
   ]
  },
  {
   "cell_type": "code",
   "execution_count": 342,
   "metadata": {},
   "outputs": [
    {
     "data": {
      "text/plain": [
       "[['eat', 'tea', 'ate'], ['tan', 'nat'], ['bat']]"
      ]
     },
     "execution_count": 342,
     "metadata": {},
     "output_type": "execute_result"
    }
   ],
   "source": [
    "sol.groupAnagrams()"
   ]
  },
  {
   "cell_type": "code",
   "execution_count": 7,
   "metadata": {},
   "outputs": [
    {
     "name": "stdout",
     "output_type": "stream",
     "text": [
      "Hello, Fred\n",
      "HELLO, FRED!\n"
     ]
    }
   ],
   "source": [
    "class Greeter(object):\n",
    "\n",
    "    # Constructor\n",
    "    def __init__(self, name):\n",
    "        self.name = name  # Create an instance variable\n",
    "\n",
    "    # Instance method\n",
    "    def greet(self, loud=False):\n",
    "        if loud:\n",
    "            print('HELLO, %s!' % self.name.upper())\n",
    "        else:\n",
    "            print('Hello, %s' % self.name)\n",
    "\n",
    "g = Greeter('Fred')  # Construct an instance of the Greeter class\n",
    "g.greet()            # Call an instance method; prints \"Hello, Fred\"\n",
    "g.greet(loud=True)   # Call an instance method; prints \"HELLO, FRED!\""
   ]
  },
  {
   "cell_type": "code",
   "execution_count": 15,
   "metadata": {},
   "outputs": [],
   "source": [
    "class Sorter(object):\n",
    "    def __init__(self, arr):\n",
    "        #self = self\n",
    "        self.arr = arr\n",
    "    def quickSort(self):\n",
    "        if len(self.arr) <= 1:\n",
    "            return self.arr\n",
    "        else:\n",
    "            pivot = self.arr[len(self.arr) // 2]\n",
    "            left = [x for x in self.arr if x < pivot]\n",
    "            middle = [x for x in self.arr if x == pivot]\n",
    "            right = [x for x in self.arr if x > pivot]\n",
    "        return quickSort(left) + middle + quickSort(right)"
   ]
  },
  {
   "cell_type": "code",
   "execution_count": 16,
   "metadata": {},
   "outputs": [
    {
     "data": {
      "text/plain": [
       "[1, 1, 2, 3, 6, 8, 10]"
      ]
     },
     "execution_count": 16,
     "metadata": {},
     "output_type": "execute_result"
    }
   ],
   "source": [
    "some_nums = [3,6,8,10,1,2,1]\n",
    "sorter = Sorter(some_nums)\n",
    "sorter.quickSort()\n"
   ]
  },
  {
   "cell_type": "code",
   "execution_count": 4,
   "metadata": {},
   "outputs": [],
   "source": [
    "\n",
    "\n",
    "def quickSort(arr):\n",
    "\n",
    "    if len(arr) <= 1:\n",
    "        return arr\n",
    "    else:\n",
    "        pivot = arr[len(arr)// 2]\n",
    "        left = [i for i in arr if i < pivot]\n",
    "        middle = [i for i in arr if i == pivot]\n",
    "        right = [i for i in arr if i > pivot]\n",
    "\n",
    "    return quickSort(left) + middle + quickSort(right)"
   ]
  },
  {
   "cell_type": "code",
   "execution_count": 5,
   "metadata": {},
   "outputs": [],
   "source": [
    "some_nums = [3,6,8,10,1,2,1]\n"
   ]
  },
  {
   "cell_type": "code",
   "execution_count": 6,
   "metadata": {},
   "outputs": [
    {
     "data": {
      "text/plain": [
       "[1, 1, 2, 3, 6, 8, 10]"
      ]
     },
     "execution_count": 6,
     "metadata": {},
     "output_type": "execute_result"
    }
   ],
   "source": [
    "quickSort(some_nums)"
   ]
  },
  {
   "cell_type": "code",
   "execution_count": 45,
   "metadata": {},
   "outputs": [],
   "source": [
    "class Solution:\n",
    "    def __init__(self):\n",
    "        self = self\n",
    "    def isValid(self, s):\n",
    "        pair_dict = {\")\": \"(\", \n",
    "                     \"}\": \"{\", \n",
    "                     \"]\": \"[\"}\n",
    "        stack = []\n",
    "        for sym in s:\n",
    "            if sym in pair_dict:\n",
    "                top = stack.pop() if len(stack) != 0 else \"!\"\n",
    "                \n",
    "                if pair_dict[sym] != top:\n",
    "                    return False\n",
    "            else:\n",
    "                stack.append(sym)\n",
    "        \n",
    "        return len(stack) == 0"
   ]
  },
  {
   "cell_type": "code",
   "execution_count": 46,
   "metadata": {},
   "outputs": [],
   "source": [
    "some_string = \"()\""
   ]
  },
  {
   "cell_type": "code",
   "execution_count": 47,
   "metadata": {},
   "outputs": [
    {
     "data": {
      "text/plain": [
       "True"
      ]
     },
     "execution_count": 47,
     "metadata": {},
     "output_type": "execute_result"
    }
   ],
   "source": [
    "sol = Solution()\n",
    "sol.isValid(some_string)"
   ]
  },
  {
   "cell_type": "code",
   "execution_count": 48,
   "metadata": {},
   "outputs": [
    {
     "data": {
      "text/plain": [
       "True"
      ]
     },
     "execution_count": 48,
     "metadata": {},
     "output_type": "execute_result"
    }
   ],
   "source": [
    "some_string = \"()[]{}\"\n",
    "sol.isValid(some_string)"
   ]
  },
  {
   "cell_type": "code",
   "execution_count": 49,
   "metadata": {},
   "outputs": [
    {
     "data": {
      "text/plain": [
       "False"
      ]
     },
     "execution_count": 49,
     "metadata": {},
     "output_type": "execute_result"
    }
   ],
   "source": [
    "some_string = \"(]\"\n",
    "sol.isValid(some_string)"
   ]
  },
  {
   "cell_type": "code",
   "execution_count": 50,
   "metadata": {},
   "outputs": [
    {
     "data": {
      "text/plain": [
       "False"
      ]
     },
     "execution_count": 50,
     "metadata": {},
     "output_type": "execute_result"
    }
   ],
   "source": [
    "some_string = \"([)]\"\n",
    "sol.isValid(some_string)"
   ]
  },
  {
   "cell_type": "code",
   "execution_count": 51,
   "metadata": {},
   "outputs": [
    {
     "data": {
      "text/plain": [
       "True"
      ]
     },
     "execution_count": 51,
     "metadata": {},
     "output_type": "execute_result"
    }
   ],
   "source": [
    "some_string = \"{[]}\"\n",
    "sol.isValid(some_string)"
   ]
  },
  {
   "cell_type": "markdown",
   "metadata": {},
   "source": [
    "Given an array of integers where 1 ≤ a[i] ≤ n (n = size of array), some elements appear twice and others appear once.\n",
    "\n",
    "Find all the elements of [1, n] inclusive that do not appear in this array.\n",
    "\n",
    "Could you do it without extra space and in O(n) runtime? You may assume the returned list does not count as extra space.\n",
    "\n",
    "Example:\n",
    "\n",
    "Input:\n",
    "[4,3,2,7,8,2,3,1]\n",
    "\n",
    "Output:\n",
    "[5,6]"
   ]
  },
  {
   "cell_type": "code",
   "execution_count": 89,
   "metadata": {},
   "outputs": [],
   "source": [
    "class Solution:\n",
    "    def findDisappearedNumbers(self, nums):\n",
    "        miss_nums = [0] * (len(nums) + 1)\n",
    "        for i in nums:\n",
    "            miss_nums[i] += 1\n",
    "        return [i for i in range(1, len(miss_nums)) if miss_nums[i] == 0]"
   ]
  },
  {
   "cell_type": "code",
   "execution_count": 90,
   "metadata": {},
   "outputs": [],
   "source": [
    "sol= Solution()"
   ]
  },
  {
   "cell_type": "code",
   "execution_count": 91,
   "metadata": {},
   "outputs": [],
   "source": [
    "some_nums = [4,3,2,7,8,2,3,1]"
   ]
  },
  {
   "cell_type": "code",
   "execution_count": 92,
   "metadata": {},
   "outputs": [
    {
     "data": {
      "text/plain": [
       "[5, 6]"
      ]
     },
     "execution_count": 92,
     "metadata": {},
     "output_type": "execute_result"
    }
   ],
   "source": [
    "sol.findDisappearedNumbers(some_nums)"
   ]
  },
  {
   "cell_type": "code",
   "execution_count": null,
   "metadata": {},
   "outputs": [],
   "source": []
  },
  {
   "cell_type": "code",
   "execution_count": null,
   "metadata": {},
   "outputs": [],
   "source": []
  }
 ],
 "metadata": {
  "kernelspec": {
   "display_name": "Python 3",
   "language": "python",
   "name": "python3"
  },
  "language_info": {
   "codemirror_mode": {
    "name": "ipython",
    "version": 3
   },
   "file_extension": ".py",
   "mimetype": "text/x-python",
   "name": "python",
   "nbconvert_exporter": "python",
   "pygments_lexer": "ipython3",
   "version": "3.6.7"
  }
 },
 "nbformat": 4,
 "nbformat_minor": 2
}
