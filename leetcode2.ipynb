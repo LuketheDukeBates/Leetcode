{
 "cells": [
  {
   "cell_type": "markdown",
   "metadata": {},
   "source": [
    "### Length of the Longest Substring\n",
    "Given a string, find the length of the longest substring without repeating characters.\n",
    "\n",
    "Example 1:\n",
    "\n",
    "Input: \"abcabcbb\"\n",
    "\n",
    "Output: 3 \n",
    "\n",
    "Explanation: The answer is \"abc\", with the length of 3. \n",
    "\n",
    "Example 2:\n",
    "\n",
    "Input: \"bbbbb\"\n",
    "\n",
    "Output: 1\n",
    "\n",
    "Explanation: The answer is \"b\", with the length of 1.\n",
    "\n",
    "Example 3:\n",
    "\n",
    "Input: \"pwwkew\"\n",
    "\n",
    "Output: 3\n",
    "\n",
    "Explanation: The answer is \"wke\", with the length of 3. \n",
    "             Note that the answer must be a substring, \"pwke\" is a subsequence and not a substring."
   ]
  },
  {
   "cell_type": "code",
   "execution_count": 1,
   "metadata": {},
   "outputs": [],
   "source": [
    "class Solution:\n",
    "    def lengthOfLongestSubstring(self, s):\n",
    "        maxlen = currentlen = 0; ind_dict = {}\n",
    "        leftside = -1\n",
    "        ls = len(s)\n",
    "        for ind, ch in enumerate(s):\n",
    "            if ch in ind_dict and leftside < ind_dict[ch]:\n",
    "                leftside = ind_dict[ch];\n",
    "            currentlen = ind - leftside;\n",
    "            if currentlen > maxlen:\n",
    "                maxlen = currentlen\n",
    "            ind_dict[ch] = ind\n",
    "        currentlen = ls - leftside - 1\n",
    "        if currentlen > maxlen:\n",
    "            maxlen = currentlen\n",
    "        return maxlen"
   ]
  },
  {
   "cell_type": "code",
   "execution_count": 2,
   "metadata": {},
   "outputs": [],
   "source": [
    "sol = Solution()"
   ]
  },
  {
   "cell_type": "code",
   "execution_count": 3,
   "metadata": {},
   "outputs": [
    {
     "data": {
      "text/plain": [
       "3"
      ]
     },
     "execution_count": 3,
     "metadata": {},
     "output_type": "execute_result"
    }
   ],
   "source": [
    "ss = \"abcabcbb\"\n",
    "sol.lengthOfLongestSubstring(ss)"
   ]
  },
  {
   "cell_type": "code",
   "execution_count": 4,
   "metadata": {},
   "outputs": [
    {
     "data": {
      "text/plain": [
       "1"
      ]
     },
     "execution_count": 4,
     "metadata": {},
     "output_type": "execute_result"
    }
   ],
   "source": [
    "ss = \"bbbbb\"\n",
    "sol.lengthOfLongestSubstring(ss)"
   ]
  },
  {
   "cell_type": "code",
   "execution_count": 5,
   "metadata": {},
   "outputs": [
    {
     "data": {
      "text/plain": [
       "3"
      ]
     },
     "execution_count": 5,
     "metadata": {},
     "output_type": "execute_result"
    }
   ],
   "source": [
    "ss = \"pwwkew\"\n",
    "sol.lengthOfLongestSubstring(ss)"
   ]
  },
  {
   "cell_type": "markdown",
   "metadata": {},
   "source": [
    "### Length of Last Word in a string\n",
    "Given a string s consists of upper/lower-case alphabets and empty space characters ' ', return the length of last word in the string.\n",
    "\n",
    "If the last word does not exist, return 0.\n",
    "\n",
    "Note: A word is defined as a character sequence consists of non-space characters only.\n",
    "\n",
    "Example:\n",
    "\n",
    "Input: \"Hello World\"\n",
    "\n",
    "Output: 5"
   ]
  },
  {
   "cell_type": "code",
   "execution_count": 7,
   "metadata": {},
   "outputs": [],
   "source": [
    "class Solution:\n",
    "    def lengthOfLastWord(self, s: str) -> int:\n",
    "        if len(s.split()) == 0:\n",
    "            return 0\n",
    "        else:\n",
    "            return len(s.split()[-1])"
   ]
  },
  {
   "cell_type": "code",
   "execution_count": 8,
   "metadata": {},
   "outputs": [],
   "source": [
    "sol = Solution()\n",
    "test = \"Hello World\""
   ]
  },
  {
   "cell_type": "code",
   "execution_count": 9,
   "metadata": {},
   "outputs": [
    {
     "data": {
      "text/plain": [
       "5"
      ]
     },
     "execution_count": 9,
     "metadata": {},
     "output_type": "execute_result"
    }
   ],
   "source": [
    "sol.lengthOfLastWord(test)"
   ]
  },
  {
   "cell_type": "markdown",
   "metadata": {},
   "source": [
    "### 53. Maximum Subarray\n",
    "\n",
    "Given an integer array nums, find the contiguous subarray (containing at least one number) which has the largest sum and return its sum.\n",
    "\n",
    "Example:\n",
    "\n",
    "Input: [-2,1,-3,4,-1,2,1,-5,4],\n",
    "\n",
    "Output: 6\n",
    "\n",
    "Explanation: [4,-1,2,1] has the largest sum = 6."
   ]
  },
  {
   "cell_type": "code",
   "execution_count": 10,
   "metadata": {},
   "outputs": [],
   "source": [
    "class Solution:\n",
    "    def maxSubArray(self, nums):\n",
    "        for i in range(1, len(nums)):\n",
    "            if nums[i-1] > 0:\n",
    "                nums[i] += nums[i-1]                \n",
    "        \n",
    "        return max(nums)"
   ]
  },
  {
   "cell_type": "code",
   "execution_count": 12,
   "metadata": {},
   "outputs": [
    {
     "data": {
      "text/plain": [
       "6"
      ]
     },
     "execution_count": 12,
     "metadata": {},
     "output_type": "execute_result"
    }
   ],
   "source": [
    "sol = Solution()\n",
    "given_nums = [-2,1,-3,4,-1,2,1,-5,4]\n",
    "sol.maxSubArray(given_nums)"
   ]
  },
  {
   "cell_type": "markdown",
   "metadata": {},
   "source": [
    "### Partition to K Equal Sum Subsets\n",
    "\n",
    "Given an array of integers nums and a positive integer k, find whether it's possible to divide this array into k non-empty subsets whose sums are all equal.\n",
    "\n",
    " \n",
    "\n",
    "Example 1:\n",
    "\n",
    "Input: nums = [4, 3, 2, 3, 5, 2, 1], k = 4\n",
    "\n",
    "Output: True\n",
    "\n",
    "Explanation: It's possible to divide it into 4 subsets (5), (1, 4), (2,3), (2,3) with equal sums.\n",
    " \n",
    "\n",
    "Note:\n",
    "\n",
    "1. 1 <= k <= len(nums) <= 16.\n",
    "2. 0 < nums[i] < 10000."
   ]
  },
  {
   "cell_type": "code",
   "execution_count": 22,
   "metadata": {},
   "outputs": [],
   "source": [
    "class Solution:\n",
    "    def canPartitionKSubsets(self, nums, k):\n",
    "        nums.sort(reverse=True) \n",
    "        buck, kSum = [0] * k, sum(nums) // k\n",
    "        \n",
    "        def depthFirstSearch(idx):\n",
    "            if idx == len(nums): \n",
    "                return len(set(buck)) == 1\n",
    "            \n",
    "            for i in range(k):\n",
    "                buck[i] += nums[idx]\n",
    "                if buck[i] <= kSum and depthFirstSearch(idx + 1): \n",
    "                    return True\n",
    "                \n",
    "                buck[i] -= nums[idx]\n",
    "                if buck[i] == 0: \n",
    "                    break\n",
    "            \n",
    "            return False\n",
    "        \n",
    "        return depthFirstSearch(0)"
   ]
  },
  {
   "cell_type": "code",
   "execution_count": 23,
   "metadata": {},
   "outputs": [],
   "source": [
    "sol = Solution()\n",
    "given_nums = [4, 3, 2, 3, 5, 2, 1]; k = 4"
   ]
  },
  {
   "cell_type": "code",
   "execution_count": 24,
   "metadata": {},
   "outputs": [
    {
     "data": {
      "text/plain": [
       "True"
      ]
     },
     "execution_count": 24,
     "metadata": {},
     "output_type": "execute_result"
    }
   ],
   "source": [
    "sol.canPartitionKSubsets(given_nums, k)"
   ]
  },
  {
   "cell_type": "markdown",
   "metadata": {},
   "source": [
    "### Valid Palindrome\n",
    "\n",
    "Given a string, determine if it is a palindrome, considering only alphanumeric characters and ignoring cases.\n",
    "\n",
    "Note: For the purpose of this problem, we define empty string as valid palindrome.\n",
    "\n",
    "Example 1:\n",
    "\n",
    "Input: \"A man, a plan, a canal: Panama\"\n",
    "\n",
    "Output: true\n",
    "\n",
    "Example 2:\n",
    "\n",
    "Input: \"race a car\"\n",
    "\n",
    "Output: false"
   ]
  },
  {
   "cell_type": "code",
   "execution_count": 27,
   "metadata": {},
   "outputs": [],
   "source": [
    "class Solution:\n",
    "    def isPalindrome(self, s):\n",
    "        s = ''.join(ch for ch in s if ch.isalnum()).lower()\n",
    "        return s == s[::-1]"
   ]
  },
  {
   "cell_type": "code",
   "execution_count": 28,
   "metadata": {},
   "outputs": [
    {
     "data": {
      "text/plain": [
       "True"
      ]
     },
     "execution_count": 28,
     "metadata": {},
     "output_type": "execute_result"
    }
   ],
   "source": [
    "sol = Solution()\n",
    "test = \"A man, a plan, a canal: Panama\"\n",
    "sol.isPalindrome(test)"
   ]
  },
  {
   "cell_type": "code",
   "execution_count": 29,
   "metadata": {},
   "outputs": [
    {
     "data": {
      "text/plain": [
       "False"
      ]
     },
     "execution_count": 29,
     "metadata": {},
     "output_type": "execute_result"
    }
   ],
   "source": [
    "test = \"race a car\"\n",
    "sol.isPalindrome(test)"
   ]
  },
  {
   "cell_type": "markdown",
   "metadata": {},
   "source": [
    "### Single Number\n",
    "Given a non-empty array of integers, every element appears twice except for one. Find that single one.\n",
    "\n",
    "Note:\n",
    "\n",
    "Your algorithm should have a linear runtime complexity. Could you implement it without using extra memory?\n",
    "\n",
    "Example 1:\n",
    "\n",
    "Input: [2,2,1]\n",
    "\n",
    "Output: 1\n",
    "\n",
    "Example 2:\n",
    "\n",
    "Input: [4,1,2,1,2]\n",
    "\n",
    "Output: 4\n",
    "\n",
    "### Hashmap solution"
   ]
  },
  {
   "cell_type": "code",
   "execution_count": 54,
   "metadata": {},
   "outputs": [],
   "source": [
    "class Solution:\n",
    "    def singleNumber(self, nums):\n",
    "        lookup = {}\n",
    "        for i in nums:\n",
    "            try:\n",
    "                lookup.pop(i)\n",
    "            except:\n",
    "                lookup[i] = 1\n",
    "        return lookup.popitem()[0]"
   ]
  },
  {
   "cell_type": "code",
   "execution_count": 55,
   "metadata": {},
   "outputs": [
    {
     "data": {
      "text/plain": [
       "1"
      ]
     },
     "execution_count": 55,
     "metadata": {},
     "output_type": "execute_result"
    }
   ],
   "source": [
    "sol = Solution()\n",
    "given_nums = [2,2,1]\n",
    "sol.singleNumber(given_nums)"
   ]
  },
  {
   "cell_type": "code",
   "execution_count": 56,
   "metadata": {},
   "outputs": [
    {
     "data": {
      "text/plain": [
       "4"
      ]
     },
     "execution_count": 56,
     "metadata": {},
     "output_type": "execute_result"
    }
   ],
   "source": [
    "given_nums = [4,1,2,1,2]\n",
    "sol.singleNumber(given_nums)"
   ]
  },
  {
   "cell_type": "markdown",
   "metadata": {},
   "source": [
    "### Math Solution\n",
    "$ 2 ∗ (a + b + c) − (a + a + b + b + c) = c $"
   ]
  },
  {
   "cell_type": "code",
   "execution_count": 57,
   "metadata": {},
   "outputs": [],
   "source": [
    "class Solution:\n",
    "    def singleNumber(self, nums):\n",
    "        return 2 * sum(set(nums)) - sum(nums)"
   ]
  },
  {
   "cell_type": "code",
   "execution_count": 58,
   "metadata": {},
   "outputs": [
    {
     "data": {
      "text/plain": [
       "1"
      ]
     },
     "execution_count": 58,
     "metadata": {},
     "output_type": "execute_result"
    }
   ],
   "source": [
    "sol = Solution()\n",
    "given_nums = [2,2,1]\n",
    "sol.singleNumber(given_nums)"
   ]
  },
  {
   "cell_type": "code",
   "execution_count": 59,
   "metadata": {},
   "outputs": [
    {
     "data": {
      "text/plain": [
       "4"
      ]
     },
     "execution_count": 59,
     "metadata": {},
     "output_type": "execute_result"
    }
   ],
   "source": [
    "given_nums = [4,1,2,1,2]\n",
    "sol.singleNumber(given_nums)"
   ]
  },
  {
   "cell_type": "code",
   "execution_count": 19,
   "metadata": {},
   "outputs": [],
   "source": [
    "# Definition for singly-linked list.\n",
    "# class ListNode(object):\n",
    "#     def __init__(self, x):\n",
    "#         self.val = x\n",
    "#         self.next = None\n",
    "\n",
    "class Solution(object):\n",
    "    def hasCycle(self, head):\n",
    "        \"\"\"\n",
    "        :type head: ListNode\n",
    "        :rtype: bool\n",
    "        \"\"\"\n",
    "          # sanity check: empty list has no cycle\n",
    "        if head is None:\n",
    "            return False\n",
    "        \n",
    "        slow = head\n",
    "        fast = head.next\n",
    "        \n",
    "        # iterate fast poitner at twice the speed of the slow one\n",
    "        while slow and fast and fast.next:\n",
    "            # if a cycle exists, they will eventually meet\n",
    "            if slow == fast:\n",
    "                return True\n",
    "            slow = slow.next\n",
    "            fast = fast.next.next\n",
    "        \n",
    "        # we have gone through the linked list entirely\n",
    "        # no cycle\n",
    "        return False"
   ]
  },
  {
   "cell_type": "markdown",
   "metadata": {},
   "source": [
    "### Happy Number\n",
    "\n",
    "Write an algorithm to determine if a number is \"happy\".\n",
    "\n",
    "A happy number is a number defined by the following process: Starting with any positive integer, replace the number by the sum of the squares of its digits, and repeat the process until the number equals 1 (where it will stay), or it loops endlessly in a cycle which does not include 1. Those numbers for which this process ends in 1 are happy numbers.\n",
    "\n",
    "Example: \n",
    "\n",
    "Input: 19\n",
    "\n",
    "Output: true\n",
    "\n",
    "Explanation:\n",
    "\n",
    "$12 + 92 = 82$\n",
    "\n",
    "$82 + 22 = 68$\n",
    "\n",
    "$62 + 82 = 100$\n",
    "\n",
    "$12 + 02 + 02 = 1$"
   ]
  },
  {
   "cell_type": "code",
   "execution_count": 21,
   "metadata": {},
   "outputs": [],
   "source": [
    "class Solution(object):\n",
    "    def isHappy(self, n):\n",
    "        seen = set()\n",
    "        while n not in seen:\n",
    "            seen.add(n)\n",
    "            n = sum([int(x) **2 for x in str(n)])\n",
    "        return n == 1"
   ]
  },
  {
   "cell_type": "code",
   "execution_count": 22,
   "metadata": {},
   "outputs": [],
   "source": [
    "sol = Solution()"
   ]
  },
  {
   "cell_type": "code",
   "execution_count": 23,
   "metadata": {},
   "outputs": [
    {
     "data": {
      "text/plain": [
       "True"
      ]
     },
     "execution_count": 23,
     "metadata": {},
     "output_type": "execute_result"
    }
   ],
   "source": [
    "sol.isHappy(19)"
   ]
  },
  {
   "cell_type": "markdown",
   "metadata": {},
   "source": [
    "#### Depth first search binary tree traversal - preorder, inorder, postorder \n",
    "\n",
    "         1\n",
    "        /  |\n",
    "       2   3\n",
    "      / |  / |      \n",
    "     4  5  6  7\n",
    "               |\n",
    "               8"
   ]
  },
  {
   "cell_type": "code",
   "execution_count": 22,
   "metadata": {},
   "outputs": [
    {
     "name": "stdout",
     "output_type": "stream",
     "text": [
      "1-2-4-5-3-6-7-8-\n",
      "4-2-5-1-6-3-7-8-\n",
      "4-5-2-6-8-7-3-1-\n"
     ]
    }
   ],
   "source": [
    "class Node(object):\n",
    "    \n",
    "    def __init__(self, val):\n",
    "        self.val = val\n",
    "        self.left = None\n",
    "        self.right = None       \n",
    "       \n",
    "class binaryTree(object):\n",
    "    \n",
    "    def __init__(self, root):\n",
    "        self.root = Node(root)\n",
    "        \n",
    "    def printTree(self, traversal_type):\n",
    "        if traversal_type == \"preorder\":\n",
    "            return self.preorderPrint(tree.root, '')\n",
    "        elif traversal_type == \"inorder\":\n",
    "            return self.inorderPrint(tree.root, '')\n",
    "        elif traversal_type == \"postorder\":\n",
    "            return self.postorderPrint(tree.root, '')\n",
    "        else:\n",
    "            print(\"Traversal type {0} is not supported.\".format(traversal_type))\n",
    "            return False\n",
    "        \n",
    "    def preorderPrint(self, start, traversal):\n",
    "        # Root --> Left --> Right\n",
    "       \n",
    "        if start:\n",
    "            traversal += (str(start.val) + \"-\")\n",
    "            # recursive call\n",
    "            traversal = self.preorderPrint(start.left, traversal)\n",
    "            traversal = self.preorderPrint(start.right, traversal)\n",
    "        \n",
    "        return traversal        \n",
    "        \n",
    "    def inorderPrint(self, start, traversal):\n",
    "    # Left --> Root --> Right\n",
    "        if start:\n",
    "            traversal = self.inorderPrint(start.left, traversal)\n",
    "            traversal += (str(start.val) + '-')\n",
    "            traversal = self.inorderPrint(start.right, traversal)\n",
    "\n",
    "        return traversal\n",
    "    \n",
    "    def postorderPrint(self, start, traversal):\n",
    "        #Left --> Right --> Root\n",
    "        if start:\n",
    "            traversal = self.postorderPrint(start.left, traversal)\n",
    "            traversal = self.postorderPrint(start.right, traversal)\n",
    "            traversal += (str(start.val) + '-')\n",
    "        \n",
    "        return traversal\n",
    "            \n",
    "tree = binaryTree(1)\n",
    "tree.root.left = Node(2)\n",
    "tree.root.right = Node(3)\n",
    "tree.root.left.left = Node(4)\n",
    "tree.root.left.right = Node(5)\n",
    "tree.root.right.left = Node(6)\n",
    "tree.root.right.right = Node(7)\n",
    "tree.root.right.right.right = Node(8)\n",
    "print(tree.printTree(\"preorder\"))\n",
    "print(tree.printTree(\"inorder\"))\n",
    "print(tree.printTree(\"postorder\"))"
   ]
  },
  {
   "cell_type": "markdown",
   "metadata": {},
   "source": [
    "### Stacks\n",
    "D\n",
    "\n",
    "C\n",
    "\n",
    "B\n",
    "\n",
    "A\n",
    "\n",
    "push and popping\n"
   ]
  },
  {
   "cell_type": "code",
   "execution_count": 38,
   "metadata": {},
   "outputs": [
    {
     "name": "stdout",
     "output_type": "stream",
     "text": [
      "True\n",
      "Stack is empty.\n",
      "None\n",
      "['A', 'B']\n",
      "['A', 'B', 'C']\n",
      "['A', 'B']\n",
      "False\n",
      "B\n"
     ]
    }
   ],
   "source": [
    "class Stack(object):\n",
    "    def __init__(self):\n",
    "        self.items = []\n",
    "    \n",
    "    def push(self, item):\n",
    "        return self.items.append(item)\n",
    "    \n",
    "    def pop(self):\n",
    "        return self.items.pop()\n",
    "    \n",
    "    def getStack(self):\n",
    "        return self.items\n",
    "    \n",
    "    def empty(self):\n",
    "        return self.items == []\n",
    "    \n",
    "    def peek(self):\n",
    "        if not self.empty():\n",
    "            return self.items[-1]\n",
    "        else:\n",
    "            print(\"Stack is empty.\")\n",
    "\n",
    "    \n",
    "stack = Stack()\n",
    "print(stack.empty())\n",
    "print(stack.peek())\n",
    "stack.push(\"A\")\n",
    "stack.push(\"B\")\n",
    "print(stack.getStack())\n",
    "stack.push(\"C\")\n",
    "print(stack.getStack())\n",
    "stack.pop()\n",
    "print(stack.getStack())\n",
    "print(stack.empty())\n",
    "print(stack.peek())    "
   ]
  },
  {
   "cell_type": "markdown",
   "metadata": {},
   "source": [
    "Determine if parathesis are balanced using stack data structure.\n"
   ]
  },
  {
   "cell_type": "code",
   "execution_count": 51,
   "metadata": {},
   "outputs": [
    {
     "name": "stdout",
     "output_type": "stream",
     "text": [
      "True\n",
      "False\n"
     ]
    }
   ],
   "source": [
    "def match(p1, p2):\n",
    "    if p1 == \"{\" and p2 == \"}\":\n",
    "        return True\n",
    "    elif p1 == \"[\" and p2 == \"]\":\n",
    "        return True\n",
    "    elif p1 == \"(\" and p2 == \")\":\n",
    "        return True\n",
    "    \n",
    "    else:\n",
    "        return False\n",
    "\n",
    "def isParenBalanced(paren_string):\n",
    "    stack = Stack()\n",
    "    balanced = True\n",
    "    index = 0\n",
    "    while index < len(paren_string) and balanced == True:\n",
    "        paren = paren_string[index]\n",
    "        if paren in '({[':\n",
    "            stack.push(paren)\n",
    "        else:\n",
    "            if stack.empty():\n",
    "                balanced = False\n",
    "            else:\n",
    "                top = stack.pop()\n",
    "                if match(top, paren) != True:\n",
    "                    balanced = False\n",
    "        index += 1\n",
    "    \n",
    "    if stack.empty() and balanced == True:\n",
    "        return True\n",
    "    else:\n",
    "        return False\n",
    "        \n",
    "\n",
    "\n",
    "print(isParenBalanced('(((({}))))'))        \n",
    "print(isParenBalanced('[[]'))"
   ]
  },
  {
   "cell_type": "code",
   "execution_count": null,
   "metadata": {},
   "outputs": [],
   "source": []
  }
 ],
 "metadata": {
  "kernelspec": {
   "display_name": "Python 3",
   "language": "python",
   "name": "python3"
  },
  "language_info": {
   "codemirror_mode": {
    "name": "ipython",
    "version": 3
   },
   "file_extension": ".py",
   "mimetype": "text/x-python",
   "name": "python",
   "nbconvert_exporter": "python",
   "pygments_lexer": "ipython3",
   "version": "3.6.5"
  }
 },
 "nbformat": 4,
 "nbformat_minor": 2
}
